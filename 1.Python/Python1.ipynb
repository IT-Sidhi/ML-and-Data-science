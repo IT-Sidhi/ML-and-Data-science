{
  "nbformat": 4,
  "nbformat_minor": 0,
  "metadata": {
    "colab": {
      "provenance": []
    },
    "kernelspec": {
      "name": "python3",
      "display_name": "Python 3"
    },
    "language_info": {
      "name": "python"
    }
  },
  "cells": [
    {
      "cell_type": "markdown",
      "source": [
        "# Why Python?\n",
        "# 1. Design Philosophy --> Easiest Language to learn, well intended, easy to understand\n",
        "# 2. Batteries Included --> have built in data types ex - Reversal of strings which are done in one line\n",
        "# 3. General Purpose --> Supports Procedural,functional and OOPS language and softwares,and applications, games\n",
        "# 4. Libraries --> Have built in libraries which made very difficult tasks to easy, mainly in domain of maths which is very big reason to choose Python in Data Science and it has some data structures which makes the working very fast\n"
      ],
      "metadata": {
        "id": "MqpWciO_SKlP"
      }
    },
    {
      "cell_type": "markdown",
      "source": [
        "# 1. Python Output"
      ],
      "metadata": {
        "id": "AJ0TsHWKTjVM"
      }
    },
    {
      "cell_type": "code",
      "source": [
        "# Python is a Case Sensitive Language\n",
        "print(\"Hello World\")"
      ],
      "metadata": {
        "colab": {
          "base_uri": "https://localhost:8080/"
        },
        "id": "fCYLCCvVTnC1",
        "outputId": "89503abd-1135-40db-f6d2-60d508ea5fdf"
      },
      "execution_count": null,
      "outputs": [
        {
          "output_type": "stream",
          "name": "stdout",
          "text": [
            "Hello World\n"
          ]
        }
      ]
    },
    {
      "cell_type": "code",
      "source": [
        "print(\"Sidhi Gupta\")"
      ],
      "metadata": {
        "colab": {
          "base_uri": "https://localhost:8080/"
        },
        "id": "pYtWtinCT-ay",
        "outputId": "ed667c58-4845-47d9-f9e4-d74b5222b3c2"
      },
      "execution_count": null,
      "outputs": [
        {
          "output_type": "stream",
          "name": "stdout",
          "text": [
            "Sidhi Gupta\n"
          ]
        }
      ]
    },
    {
      "cell_type": "code",
      "source": [
        "print(7)"
      ],
      "metadata": {
        "colab": {
          "base_uri": "https://localhost:8080/"
        },
        "id": "gQq5vfRWUL0w",
        "outputId": "75fa91a6-6c7c-493d-ac1f-040057ad6c82"
      },
      "execution_count": null,
      "outputs": [
        {
          "output_type": "stream",
          "name": "stdout",
          "text": [
            "7\n"
          ]
        }
      ]
    },
    {
      "cell_type": "code",
      "source": [
        "print(4.5)"
      ],
      "metadata": {
        "colab": {
          "base_uri": "https://localhost:8080/"
        },
        "id": "gbCha24lUUXa",
        "outputId": "f55b81dd-1f63-4ebf-e788-aba439f20b9b"
      },
      "execution_count": null,
      "outputs": [
        {
          "output_type": "stream",
          "name": "stdout",
          "text": [
            "4.5\n"
          ]
        }
      ]
    },
    {
      "cell_type": "code",
      "source": [
        "print(False)"
      ],
      "metadata": {
        "colab": {
          "base_uri": "https://localhost:8080/"
        },
        "id": "s2AejpYBUVkd",
        "outputId": "1fbe9f70-337d-45bd-9057-e2c64f8c8ea2"
      },
      "execution_count": null,
      "outputs": [
        {
          "output_type": "stream",
          "name": "stdout",
          "text": [
            "False\n"
          ]
        }
      ]
    },
    {
      "cell_type": "code",
      "source": [
        "print('Hello',1,5.4,True)\n",
        "# Separated by a Space"
      ],
      "metadata": {
        "colab": {
          "base_uri": "https://localhost:8080/"
        },
        "id": "bmyIZoqFUWcW",
        "outputId": "8ff5604f-b091-4747-aa6f-9b657c21ce2d"
      },
      "execution_count": null,
      "outputs": [
        {
          "output_type": "stream",
          "name": "stdout",
          "text": [
            "Hello 1 5.4 True\n"
          ]
        }
      ]
    },
    {
      "cell_type": "code",
      "source": [
        "print('Hello',1,5.4,True,sep='/')"
      ],
      "metadata": {
        "colab": {
          "base_uri": "https://localhost:8080/"
        },
        "id": "riZh7JQ7UvHK",
        "outputId": "272f4349-03c0-4053-e39f-9d247d5a769d"
      },
      "execution_count": null,
      "outputs": [
        {
          "output_type": "stream",
          "name": "stdout",
          "text": [
            "Hello/1/5.4/True\n"
          ]
        }
      ]
    },
    {
      "cell_type": "code",
      "source": [
        "print(\"Hello\")\n",
        "print(\"World\")\n",
        "# Different Lines as end = '\\n' by default"
      ],
      "metadata": {
        "colab": {
          "base_uri": "https://localhost:8080/"
        },
        "id": "CzrTmctkU6Wa",
        "outputId": "9c0d9c5e-4f2d-4abd-d35e-abe0f0d502a0"
      },
      "execution_count": null,
      "outputs": [
        {
          "output_type": "stream",
          "name": "stdout",
          "text": [
            "Hello\n",
            "World\n"
          ]
        }
      ]
    },
    {
      "cell_type": "code",
      "source": [
        "print(\"Hello\",end='-')\n",
        "print(\"World\")"
      ],
      "metadata": {
        "colab": {
          "base_uri": "https://localhost:8080/"
        },
        "id": "ncxKpj-WVEU1",
        "outputId": "8273e71f-0976-4031-99a8-66fcd74ee6a8"
      },
      "execution_count": null,
      "outputs": [
        {
          "output_type": "stream",
          "name": "stdout",
          "text": [
            "Hello-World\n"
          ]
        }
      ]
    },
    {
      "cell_type": "markdown",
      "source": [
        "#2. Data Types"
      ],
      "metadata": {
        "id": "-wS0PNAyUlXb"
      }
    },
    {
      "cell_type": "code",
      "source": [
        "# Integer\n",
        "print(8)\n",
        "# 1*10 ^ 308 After it, it will infinte\n",
        "print(1e308)"
      ],
      "metadata": {
        "colab": {
          "base_uri": "https://localhost:8080/"
        },
        "id": "lJRKuXi6U5Fv",
        "outputId": "c3e954ec-d251-46f0-bdc1-160d37a76ff9"
      },
      "execution_count": null,
      "outputs": [
        {
          "output_type": "stream",
          "name": "stdout",
          "text": [
            "8\n",
            "1e+308\n"
          ]
        }
      ]
    },
    {
      "cell_type": "code",
      "source": [
        "# Decimal/Float\n",
        "print(8.55)\n",
        "# 1.7*10 ^ 308\n",
        "print(1.7e308)"
      ],
      "metadata": {
        "colab": {
          "base_uri": "https://localhost:8080/"
        },
        "id": "ZHvsfpJ-Ueu7",
        "outputId": "6f0513d1-1275-49f0-b8a1-3f90eb1200c0"
      },
      "execution_count": null,
      "outputs": [
        {
          "output_type": "stream",
          "name": "stdout",
          "text": [
            "8.55\n",
            "1.7e+308\n"
          ]
        }
      ]
    },
    {
      "cell_type": "code",
      "source": [
        "# Boolean\n",
        "print(True)\n",
        "print(False)"
      ],
      "metadata": {
        "colab": {
          "base_uri": "https://localhost:8080/"
        },
        "id": "sHs-mjisV3RA",
        "outputId": "3332dcc9-c9ee-4821-b31c-31e1d6d3896c"
      },
      "execution_count": null,
      "outputs": [
        {
          "output_type": "stream",
          "name": "stdout",
          "text": [
            "True\n",
            "False\n"
          ]
        }
      ]
    },
    {
      "cell_type": "code",
      "source": [
        "# Text/String\n",
        "print(\"Hello World\")"
      ],
      "metadata": {
        "colab": {
          "base_uri": "https://localhost:8080/"
        },
        "id": "dB6Qwh3FV8Fy",
        "outputId": "127d62ed-42f7-4388-d57c-74592c078817"
      },
      "execution_count": null,
      "outputs": [
        {
          "output_type": "stream",
          "name": "stdout",
          "text": [
            "Hello World\n"
          ]
        }
      ]
    },
    {
      "cell_type": "code",
      "source": [
        "# complex Number\n",
        "print(5+6j)"
      ],
      "metadata": {
        "colab": {
          "base_uri": "https://localhost:8080/"
        },
        "id": "7Y6AZu93WAgZ",
        "outputId": "382919a3-dc47-4e21-c504-7d96d3e6fe50"
      },
      "execution_count": null,
      "outputs": [
        {
          "output_type": "stream",
          "name": "stdout",
          "text": [
            "(5+6j)\n"
          ]
        }
      ]
    },
    {
      "cell_type": "code",
      "source": [
        "# List ( C --> Array)\n",
        "print([1,2,5,3,6])"
      ],
      "metadata": {
        "colab": {
          "base_uri": "https://localhost:8080/"
        },
        "id": "EL-OhpGjWESx",
        "outputId": "e36bfcf3-82fc-4b24-d597-3b03a7de3b88"
      },
      "execution_count": null,
      "outputs": [
        {
          "output_type": "stream",
          "name": "stdout",
          "text": [
            "[1, 2, 5, 3, 6]\n"
          ]
        }
      ]
    },
    {
      "cell_type": "code",
      "source": [
        "# Tuple\n",
        "print((1,4,5,8,9))"
      ],
      "metadata": {
        "colab": {
          "base_uri": "https://localhost:8080/"
        },
        "id": "19waZBu-WJ73",
        "outputId": "6d4cca03-66e6-4ec8-9f75-a72c9c7e66f4"
      },
      "execution_count": null,
      "outputs": [
        {
          "output_type": "stream",
          "name": "stdout",
          "text": [
            "(1, 4, 5, 8, 9)\n"
          ]
        }
      ]
    },
    {
      "cell_type": "code",
      "source": [
        "# Sets\n",
        "print({1,4,7,8,5})"
      ],
      "metadata": {
        "colab": {
          "base_uri": "https://localhost:8080/"
        },
        "id": "z0FncZAuWNca",
        "outputId": "0863378a-eebe-4eda-f7a2-4bb28b49b306"
      },
      "execution_count": null,
      "outputs": [
        {
          "output_type": "stream",
          "name": "stdout",
          "text": [
            "{1, 4, 5, 7, 8}\n"
          ]
        }
      ]
    },
    {
      "cell_type": "code",
      "source": [
        "# Dictionary (Key - value Pairs)\n",
        "print({'Name':\"Sidhi Gupta\",'Age':19})"
      ],
      "metadata": {
        "colab": {
          "base_uri": "https://localhost:8080/"
        },
        "id": "2fJJ8W0GWQYk",
        "outputId": "e4412bd2-8ab6-4f60-dcc6-2f6be68a7097"
      },
      "execution_count": null,
      "outputs": [
        {
          "output_type": "stream",
          "name": "stdout",
          "text": [
            "{'Name': 'Sidhi Gupta', 'Age': 19}\n"
          ]
        }
      ]
    },
    {
      "cell_type": "code",
      "source": [
        "# type\n",
        "print(type(5))\n",
        "print(type(3.5))\n",
        "print(type(False))"
      ],
      "metadata": {
        "colab": {
          "base_uri": "https://localhost:8080/"
        },
        "id": "zK8nkpUAWZO4",
        "outputId": "1842163d-141b-4ad0-bd46-5c580043d712"
      },
      "execution_count": null,
      "outputs": [
        {
          "output_type": "stream",
          "name": "stdout",
          "text": [
            "<class 'int'>\n",
            "<class 'float'>\n",
            "<class 'bool'>\n"
          ]
        }
      ]
    },
    {
      "cell_type": "markdown",
      "source": [
        "#3. Variables"
      ],
      "metadata": {
        "id": "3Ifu4SiUXD0n"
      }
    },
    {
      "cell_type": "code",
      "source": [
        "# They are containers for future use, as they store data which we don't know in present\n",
        "name = 'Sidhi'\n",
        "print(name)"
      ],
      "metadata": {
        "colab": {
          "base_uri": "https://localhost:8080/"
        },
        "id": "jBp-JCg_W87K",
        "outputId": "6424a290-25f4-44ac-8430-4faca3a0046b"
      },
      "execution_count": null,
      "outputs": [
        {
          "output_type": "stream",
          "name": "stdout",
          "text": [
            "Sidhi\n"
          ]
        }
      ]
    },
    {
      "cell_type": "code",
      "source": [
        "a = 5\n",
        "b = 6\n",
        "print(a+b)"
      ],
      "metadata": {
        "colab": {
          "base_uri": "https://localhost:8080/"
        },
        "id": "hffioef7XeMp",
        "outputId": "8983ed71-1545-421c-de47-4bc703af864b"
      },
      "execution_count": null,
      "outputs": [
        {
          "output_type": "stream",
          "name": "stdout",
          "text": [
            "11\n"
          ]
        }
      ]
    },
    {
      "cell_type": "markdown",
      "source": [
        "# IMP QUESTIONS"
      ],
      "metadata": {
        "id": "I3H22WFLYnsU"
      }
    },
    {
      "cell_type": "code",
      "source": [
        "# Dynamic Typing\n",
        "# In other languages, we declare the data type first before creating a variable, but in\n",
        "# python we do not tell the data type to interpreter\n",
        "\n",
        "# Static Typing\n",
        "# In this, other languages use to declare variable using data types only"
      ],
      "metadata": {
        "id": "K42yLklLXgsu"
      },
      "execution_count": null,
      "outputs": []
    },
    {
      "cell_type": "code",
      "source": [
        "# Dynamic Binding\n",
        "# In python, we can re-declare the data-type of any variable which means, there is fixed\n",
        "# data type for a variable\n",
        "\n",
        "# Static Binding, which is in other languages, that same variable can't be used by\n",
        "# another data-type\n",
        "a = 5\n",
        "print(a)\n",
        "a = 'Sidhi'\n",
        "print(a)"
      ],
      "metadata": {
        "colab": {
          "base_uri": "https://localhost:8080/"
        },
        "id": "qr-n9kV6YE15",
        "outputId": "ba502fc7-e478-49b3-9c93-50e72ab3b6e2"
      },
      "execution_count": null,
      "outputs": [
        {
          "output_type": "stream",
          "name": "stdout",
          "text": [
            "5\n",
            "Sidhi\n"
          ]
        }
      ]
    },
    {
      "cell_type": "code",
      "source": [
        "# How to declare many variables in single line\n",
        "a,b,c = 1,2,3\n",
        "print(a,b,c)"
      ],
      "metadata": {
        "colab": {
          "base_uri": "https://localhost:8080/"
        },
        "id": "vsucMYyeYrV4",
        "outputId": "c2fb2d76-4946-4da4-d39a-23e4614927e5"
      },
      "execution_count": null,
      "outputs": [
        {
          "output_type": "stream",
          "name": "stdout",
          "text": [
            "1 2 3\n"
          ]
        }
      ]
    },
    {
      "cell_type": "code",
      "source": [
        "# Same Value for all the variables\n",
        "a=b=c=5\n",
        "print(a,b,c)"
      ],
      "metadata": {
        "colab": {
          "base_uri": "https://localhost:8080/"
        },
        "id": "_emy-tvPY15C",
        "outputId": "f37e0998-ebd3-4c63-c07c-a1606d507b98"
      },
      "execution_count": null,
      "outputs": [
        {
          "output_type": "stream",
          "name": "stdout",
          "text": [
            "5 5 5\n"
          ]
        }
      ]
    },
    {
      "cell_type": "markdown",
      "source": [
        "#4. Keywords & Identifiers"
      ],
      "metadata": {
        "id": "Id1WQywhZV9Y"
      }
    },
    {
      "cell_type": "code",
      "source": [
        "# Keywords\n",
        "# Converting English language to binary language by Interpreter which\n",
        "# converts line by line or compiles it, require some reserved words\n",
        "# known as Keywords\n",
        "\n",
        "# Identifiers\n",
        "# User-defined names are called Identifiers ex - function, variable,\n",
        "# classes and many more\n",
        "# They can't be the keywords"
      ],
      "metadata": {
        "id": "M1N6DijGY5RH"
      },
      "execution_count": null,
      "outputs": []
    },
    {
      "cell_type": "markdown",
      "source": [
        "#5. User Input"
      ],
      "metadata": {
        "id": "6bvOUUpybCcV"
      }
    },
    {
      "cell_type": "code",
      "source": [
        "# Static Softwares (Ex - Time,Blog,Calnedar)\n",
        "# Dynamic Softwares (Ex - Shopping Apps, Food Apps etc.)"
      ],
      "metadata": {
        "id": "pnhs6ZeeZnUk"
      },
      "execution_count": null,
      "outputs": []
    },
    {
      "cell_type": "code",
      "source": [
        "# This will give a box to enter in output but user doesn't know what\n",
        "# to enter\n",
        "input()"
      ],
      "metadata": {
        "colab": {
          "base_uri": "https://localhost:8080/",
          "height": 53
        },
        "id": "mHwOg9_ibXkH",
        "outputId": "59a3e7b4-9b7f-462d-95a7-7caaf38ed5e6"
      },
      "execution_count": null,
      "outputs": [
        {
          "name": "stdout",
          "output_type": "stream",
          "text": [
            "Sidhi\n"
          ]
        },
        {
          "output_type": "execute_result",
          "data": {
            "text/plain": [
              "'Sidhi'"
            ],
            "application/vnd.google.colaboratory.intrinsic+json": {
              "type": "string"
            }
          },
          "metadata": {},
          "execution_count": 32
        }
      ]
    },
    {
      "cell_type": "code",
      "source": [
        "input(\"Enter Email: \")"
      ],
      "metadata": {
        "colab": {
          "base_uri": "https://localhost:8080/",
          "height": 53
        },
        "id": "Oa0JfVI1bayG",
        "outputId": "5feced01-8a79-47b7-aedc-c5d74328d35f"
      },
      "execution_count": null,
      "outputs": [
        {
          "name": "stdout",
          "output_type": "stream",
          "text": [
            "Enter EmailSidhi6791@gmail.com\n"
          ]
        },
        {
          "output_type": "execute_result",
          "data": {
            "text/plain": [
              "'Sidhi6791@gmail.com'"
            ],
            "application/vnd.google.colaboratory.intrinsic+json": {
              "type": "string"
            }
          },
          "metadata": {},
          "execution_count": 33
        }
      ]
    },
    {
      "cell_type": "code",
      "source": [
        "a = input(\"Enter 1st Number: \")\n",
        "b = input(\"Enter 2nd Number: \")\n",
        "print(\"Addition of both numbers: \",a+b)\n",
        "# By Default input function takes input as string data-type\n",
        "# But Why only Strings?\n",
        "# As String is a universal data format, we can store any other data\n",
        "# type in string"
      ],
      "metadata": {
        "colab": {
          "base_uri": "https://localhost:8080/"
        },
        "id": "Grv-nABxboOO",
        "outputId": "174df286-0713-4db1-9e88-a3bf5eb7dbd7"
      },
      "execution_count": null,
      "outputs": [
        {
          "output_type": "stream",
          "name": "stdout",
          "text": [
            "Enter 1st Number: 56\n",
            "Enter 2nd Number: 45\n",
            "Addition of both numbers:  5645\n"
          ]
        }
      ]
    },
    {
      "cell_type": "markdown",
      "source": [
        "#6. Type Conversion"
      ],
      "metadata": {
        "id": "ANtECNljckkv"
      }
    },
    {
      "cell_type": "code",
      "source": [
        "# Implicit Conversion (Done by Interpreter Itself)\n",
        "print(5+5.6)"
      ],
      "metadata": {
        "colab": {
          "base_uri": "https://localhost:8080/"
        },
        "id": "B5jZxWpPcoHv",
        "outputId": "a0832fdc-dccb-489c-ba5c-04fd9773df40"
      },
      "execution_count": null,
      "outputs": [
        {
          "output_type": "stream",
          "name": "stdout",
          "text": [
            "10.6\n"
          ]
        }
      ]
    },
    {
      "cell_type": "code",
      "source": [
        "# Explicit Conversion (Can be done only by user)\n",
        "a = int(input(\"Enter 1st Number: \"))\n",
        "b = int(input(\"Enter 2nd Number: \"))\n",
        "print(\"Addition of both numbers: \",a+b)"
      ],
      "metadata": {
        "colab": {
          "base_uri": "https://localhost:8080/"
        },
        "id": "TcMtZwD0b7d4",
        "outputId": "62227333-aa0f-423b-9e78-3a8e650f7530"
      },
      "execution_count": null,
      "outputs": [
        {
          "output_type": "stream",
          "name": "stdout",
          "text": [
            "Enter 1st Number: 56\n",
            "Enter 2nd Number: 78\n",
            "Addition of both numbers:  134\n"
          ]
        }
      ]
    },
    {
      "cell_type": "code",
      "source": [
        "# Sometimes Explicit Also not possible\n",
        "int(5+6j) # --> Gives Error"
      ],
      "metadata": {
        "colab": {
          "base_uri": "https://localhost:8080/",
          "height": 210
        },
        "id": "vJoGDwzIcPdm",
        "outputId": "12c4360a-d3c8-4f84-bef5-6160deb19d14"
      },
      "execution_count": null,
      "outputs": [
        {
          "output_type": "error",
          "ename": "TypeError",
          "evalue": "int() argument must be a string, a bytes-like object or a real number, not 'complex'",
          "traceback": [
            "\u001b[0;31m---------------------------------------------------------------------------\u001b[0m",
            "\u001b[0;31mTypeError\u001b[0m                                 Traceback (most recent call last)",
            "\u001b[0;32m<ipython-input-37-5ec589a6d2ae>\u001b[0m in \u001b[0;36m<cell line: 2>\u001b[0;34m()\u001b[0m\n\u001b[1;32m      1\u001b[0m \u001b[0;31m# Sometimes Explicit Also not possible\u001b[0m\u001b[0;34m\u001b[0m\u001b[0;34m\u001b[0m\u001b[0m\n\u001b[0;32m----> 2\u001b[0;31m \u001b[0mint\u001b[0m\u001b[0;34m(\u001b[0m\u001b[0;36m5\u001b[0m\u001b[0;34m+\u001b[0m\u001b[0;36m6j\u001b[0m\u001b[0;34m)\u001b[0m \u001b[0;31m# --> Gives Error\u001b[0m\u001b[0;34m\u001b[0m\u001b[0;34m\u001b[0m\u001b[0m\n\u001b[0m",
            "\u001b[0;31mTypeError\u001b[0m: int() argument must be a string, a bytes-like object or a real number, not 'complex'"
          ]
        }
      ]
    },
    {
      "cell_type": "markdown",
      "source": [
        "#7. Literals"
      ],
      "metadata": {
        "id": "xv0piWLWfyUl"
      }
    },
    {
      "cell_type": "code",
      "source": [
        "# Raw value stored in Container are called Literals\n",
        "a = 0b1010 # Binary Literals\n",
        "b = 100 # Decimal Literals\n",
        "c = 0o310 # Octal Literals\n",
        "d = 0x12c # Hexadecimal Literals\n",
        "\n",
        "print(a,b,c,d)\n",
        "\n",
        "# Float Literal\n",
        "float_1 = 10.5\n",
        "float_2 = 1.5e2\n",
        "float_3 = 1.5e-3\n",
        "\n",
        "print(float_1,float_2,float_3)"
      ],
      "metadata": {
        "colab": {
          "base_uri": "https://localhost:8080/"
        },
        "id": "f4RRfzZjdcdj",
        "outputId": "8d86de3e-fccf-436f-82a9-ab8e4b171ae9"
      },
      "execution_count": null,
      "outputs": [
        {
          "output_type": "stream",
          "name": "stdout",
          "text": [
            "10 100 200 300\n",
            "10.5 150.0 0.0015\n"
          ]
        }
      ]
    },
    {
      "cell_type": "code",
      "source": [
        "# String Literal\n",
        "s1 = 'This is Python'\n",
        "s2 = \"This is Python\"\n",
        "char = \"C\"\n",
        "multiline = \"\"\"This is multiline String\"\"\"\n",
        "unicode = u\"\\U0001f600\\U0001F606\\U0001F923\"\n",
        "raw_str = r\"raw \\n String\"\n",
        "\n",
        "print(s1)\n",
        "print(s2)\n",
        "print(char)\n",
        "print(multiline)\n",
        "print(unicode)\n",
        "print(raw_str)"
      ],
      "metadata": {
        "colab": {
          "base_uri": "https://localhost:8080/"
        },
        "id": "lN6E3m4zgm_e",
        "outputId": "cfbac4e1-c66c-40a7-9ff1-4e1a80120464"
      },
      "execution_count": null,
      "outputs": [
        {
          "output_type": "stream",
          "name": "stdout",
          "text": [
            "This is Python\n",
            "This is Python\n",
            "C\n",
            "This is multiline String\n",
            "😀😆🤣\n",
            "raw \\n String\n"
          ]
        }
      ]
    },
    {
      "cell_type": "code",
      "source": [
        "# Boolean Literals\n",
        "a = True + 4\n",
        "b = False + 10\n",
        "\n",
        "print(a,b)"
      ],
      "metadata": {
        "colab": {
          "base_uri": "https://localhost:8080/"
        },
        "id": "ONfCajfzh12w",
        "outputId": "c47a1ef5-8a0f-4f02-8cf6-c39366d513be"
      },
      "execution_count": null,
      "outputs": [
        {
          "output_type": "stream",
          "name": "stdout",
          "text": [
            "5 10\n"
          ]
        }
      ]
    },
    {
      "cell_type": "code",
      "source": [
        "# None Literal (Used to declare variable for future use so, we use it as None)\n",
        "a = None\n",
        "print(a)"
      ],
      "metadata": {
        "colab": {
          "base_uri": "https://localhost:8080/"
        },
        "id": "4dWQ1jqXiDfg",
        "outputId": "20369fdb-2428-4c4d-80eb-c60a5c709f70"
      },
      "execution_count": null,
      "outputs": [
        {
          "output_type": "stream",
          "name": "stdout",
          "text": [
            "None\n"
          ]
        }
      ]
    },
    {
      "cell_type": "code",
      "source": [],
      "metadata": {
        "id": "ufYR_D6KiJlf"
      },
      "execution_count": null,
      "outputs": []
    }
  ]
}