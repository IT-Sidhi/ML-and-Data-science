{
  "nbformat": 4,
  "nbformat_minor": 0,
  "metadata": {
    "colab": {
      "provenance": []
    },
    "kernelspec": {
      "name": "python3",
      "display_name": "Python 3"
    },
    "language_info": {
      "name": "python"
    }
  },
  "cells": [
    {
      "cell_type": "markdown",
      "source": [
        "# Strings are sequence of characters and are a sequence of Unicode Characters, not only ASCII values"
      ],
      "metadata": {
        "id": "zcS7E3Id5thN"
      }
    },
    {
      "cell_type": "markdown",
      "source": [
        "# Creating Strings\n",
        "\n"
      ],
      "metadata": {
        "id": "mAMH4VS46CcN"
      }
    },
    {
      "cell_type": "code",
      "execution_count": null,
      "metadata": {
        "colab": {
          "base_uri": "https://localhost:8080/"
        },
        "id": "JhHYlxhEw5D0",
        "outputId": "02ca81b1-bfbb-4176-e292-e9d30652cc65"
      },
      "outputs": [
        {
          "output_type": "stream",
          "name": "stdout",
          "text": [
            "hello\n"
          ]
        }
      ],
      "source": [
        "# '', \" \", ''' '''\n",
        "s = \"hello\"\n",
        "print(s)"
      ]
    },
    {
      "cell_type": "code",
      "source": [
        "# print('It's raining outside') --> This will throw an error as interpreter thinks that it's --> this one is the end\n",
        "print(\"It's raining outside\")\n",
        "s = str('Hello')\n",
        "print(s)"
      ],
      "metadata": {
        "colab": {
          "base_uri": "https://localhost:8080/"
        },
        "id": "PV_FWjYz6ME7",
        "outputId": "491d6b74-0bd7-49b9-96f6-a3c50dba4f8e"
      },
      "execution_count": null,
      "outputs": [
        {
          "output_type": "stream",
          "name": "stdout",
          "text": [
            "It's raining outside\n",
            "Hello\n"
          ]
        }
      ]
    },
    {
      "cell_type": "markdown",
      "source": [
        "# Accessing Substring from String"
      ],
      "metadata": {
        "id": "ywk8fQ8j6xAB"
      }
    },
    {
      "cell_type": "code",
      "source": [
        "# Positive Indexing (Left - Right) starts from 0\n",
        "s = 'Hello World'\n",
        "print(s[0])"
      ],
      "metadata": {
        "colab": {
          "base_uri": "https://localhost:8080/"
        },
        "id": "mDmslkyz6jfy",
        "outputId": "5cd8f052-6f79-4b5f-a382-101da73dc826"
      },
      "execution_count": null,
      "outputs": [
        {
          "output_type": "stream",
          "name": "stdout",
          "text": [
            "H\n"
          ]
        }
      ]
    },
    {
      "cell_type": "code",
      "source": [
        "# Negative Indexing (Right - Left) starts from -1\n",
        "s = \"Hello World\"\n",
        "print(s[-1])"
      ],
      "metadata": {
        "colab": {
          "base_uri": "https://localhost:8080/"
        },
        "id": "990FBIe-6-tn",
        "outputId": "97cc920c-b908-46c8-eaed-32c4bd218596"
      },
      "execution_count": null,
      "outputs": [
        {
          "output_type": "stream",
          "name": "stdout",
          "text": [
            "d\n"
          ]
        }
      ]
    },
    {
      "cell_type": "code",
      "source": [
        "# Slicing\n",
        "s = \"Hello World\"\n",
        "print(s[0:5])\n",
        "print(s[0:])\n",
        "print(s[:4])\n",
        "print(s[:])\n",
        "print(s[0:6:2])"
      ],
      "metadata": {
        "colab": {
          "base_uri": "https://localhost:8080/"
        },
        "id": "8ODfx3gL7OVh",
        "outputId": "8155261f-10ed-49a8-9722-3176de4c534c"
      },
      "execution_count": null,
      "outputs": [
        {
          "output_type": "stream",
          "name": "stdout",
          "text": [
            "Hello\n",
            "Hello World\n",
            "Hell\n",
            "Hello World\n",
            "Hlo\n"
          ]
        }
      ]
    },
    {
      "cell_type": "code",
      "source": [
        "s = \"Hello World\"\n",
        "print(s[6:0:-1])\n",
        "print(s[-1:-6:-1])"
      ],
      "metadata": {
        "colab": {
          "base_uri": "https://localhost:8080/"
        },
        "id": "qUHKg8du7jPR",
        "outputId": "dcb3b6d5-0e1d-477a-b2c0-adb62d120f97"
      },
      "execution_count": null,
      "outputs": [
        {
          "output_type": "stream",
          "name": "stdout",
          "text": [
            "W olle\n",
            "dlroW\n"
          ]
        }
      ]
    },
    {
      "cell_type": "code",
      "source": [
        "# Reverse a string\n",
        "s = \"Hello String\"\n",
        "print(s[::-1])"
      ],
      "metadata": {
        "colab": {
          "base_uri": "https://localhost:8080/"
        },
        "id": "6Gzr4D-_7-XA",
        "outputId": "8c5cee1c-66fc-4773-eb24-fc160b9c0a9e"
      },
      "execution_count": null,
      "outputs": [
        {
          "output_type": "stream",
          "name": "stdout",
          "text": [
            "gnirtS olleH\n"
          ]
        }
      ]
    },
    {
      "cell_type": "markdown",
      "source": [
        "#Editing and Deleting in Strings"
      ],
      "metadata": {
        "id": "h8Mdl7Fp8YFX"
      }
    },
    {
      "cell_type": "code",
      "source": [
        "s = \"hello World\"\n",
        "# s[0] = 'H' --> Error We can't change\n",
        "# Python Strings are immutable"
      ],
      "metadata": {
        "id": "idA1mxIJ8Ldn"
      },
      "execution_count": null,
      "outputs": []
    },
    {
      "cell_type": "code",
      "source": [
        "s = \"Hello World\"\n",
        "del s\n",
        "# Deletion of part of String is not Possible\n",
        "# Here Actually deletion doesn't occurs in memory space, but yeah this is the syntax"
      ],
      "metadata": {
        "id": "tvEml4dH8xMT"
      },
      "execution_count": null,
      "outputs": []
    },
    {
      "cell_type": "markdown",
      "source": [
        "#Operations on Strings"
      ],
      "metadata": {
        "id": "CjNdvXXu9JCe"
      }
    },
    {
      "cell_type": "markdown",
      "source": [
        "Arithmetic Operations"
      ],
      "metadata": {
        "id": "zdkhf7c79Mbv"
      }
    },
    {
      "cell_type": "code",
      "source": [
        "print(\"Delhi\" + \" \" + \"Mumbai\")"
      ],
      "metadata": {
        "colab": {
          "base_uri": "https://localhost:8080/"
        },
        "id": "Btmcye6S9IKq",
        "outputId": "0cd41bf6-9f3a-401d-fe3c-410f196993a0"
      },
      "execution_count": null,
      "outputs": [
        {
          "output_type": "stream",
          "name": "stdout",
          "text": [
            "Delhi Mumbai\n"
          ]
        }
      ]
    },
    {
      "cell_type": "code",
      "source": [
        "print(\"Delhi \"*5)"
      ],
      "metadata": {
        "colab": {
          "base_uri": "https://localhost:8080/"
        },
        "id": "wanCkHhn9Qn7",
        "outputId": "1b0b2249-04af-4ad4-e975-927d4adfda63"
      },
      "execution_count": null,
      "outputs": [
        {
          "output_type": "stream",
          "name": "stdout",
          "text": [
            "Delhi Delhi Delhi Delhi Delhi \n"
          ]
        }
      ]
    },
    {
      "cell_type": "markdown",
      "source": [
        "Relational Operations\n"
      ],
      "metadata": {
        "id": "yAQzkxUX9anB"
      }
    },
    {
      "cell_type": "code",
      "source": [
        "'delhi' == 'mumbai'"
      ],
      "metadata": {
        "colab": {
          "base_uri": "https://localhost:8080/"
        },
        "id": "Pt5o6N3n9VZN",
        "outputId": "ba255865-3388-4fc3-9406-153abf742a0a"
      },
      "execution_count": null,
      "outputs": [
        {
          "output_type": "execute_result",
          "data": {
            "text/plain": [
              "False"
            ]
          },
          "metadata": {},
          "execution_count": 18
        }
      ]
    },
    {
      "cell_type": "code",
      "source": [
        "'delhi' != 'mumbai'"
      ],
      "metadata": {
        "colab": {
          "base_uri": "https://localhost:8080/"
        },
        "id": "Cu2a_y7u9e3B",
        "outputId": "65ee7db7-22dc-4c2a-c45c-0d8d9c1b58b6"
      },
      "execution_count": null,
      "outputs": [
        {
          "output_type": "execute_result",
          "data": {
            "text/plain": [
              "True"
            ]
          },
          "metadata": {},
          "execution_count": 19
        }
      ]
    },
    {
      "cell_type": "code",
      "source": [
        "'mumbai' > 'pune'\n",
        "# Comparing Strings Lexiographically"
      ],
      "metadata": {
        "colab": {
          "base_uri": "https://localhost:8080/"
        },
        "id": "NYnX8t_B9hJo",
        "outputId": "8ac61928-f40e-4ef3-a7c8-5bb7ef216531"
      },
      "execution_count": null,
      "outputs": [
        {
          "output_type": "execute_result",
          "data": {
            "text/plain": [
              "False"
            ]
          },
          "metadata": {},
          "execution_count": 20
        }
      ]
    },
    {
      "cell_type": "code",
      "source": [
        "'Pune' > 'pune'\n",
        "# ASCII of capital values is less than the small letters"
      ],
      "metadata": {
        "colab": {
          "base_uri": "https://localhost:8080/"
        },
        "id": "EfhOufFq9kaG",
        "outputId": "ca5d04ce-27d0-4f70-fef6-f0403aef390c"
      },
      "execution_count": null,
      "outputs": [
        {
          "output_type": "execute_result",
          "data": {
            "text/plain": [
              "False"
            ]
          },
          "metadata": {},
          "execution_count": 21
        }
      ]
    },
    {
      "cell_type": "markdown",
      "source": [
        "Logical Operations"
      ],
      "metadata": {
        "id": "bcbWB8El933b"
      }
    },
    {
      "cell_type": "code",
      "source": [
        "'hello' and 'world'"
      ],
      "metadata": {
        "colab": {
          "base_uri": "https://localhost:8080/",
          "height": 35
        },
        "id": "Xa3jJK3V9uMD",
        "outputId": "2743c65c-fc98-41b6-f0b7-278d9765300f"
      },
      "execution_count": null,
      "outputs": [
        {
          "output_type": "execute_result",
          "data": {
            "text/plain": [
              "'world'"
            ],
            "application/vnd.google.colaboratory.intrinsic+json": {
              "type": "string"
            }
          },
          "metadata": {},
          "execution_count": 22
        }
      ]
    },
    {
      "cell_type": "code",
      "source": [
        "'hello' or 'world'"
      ],
      "metadata": {
        "colab": {
          "base_uri": "https://localhost:8080/",
          "height": 35
        },
        "id": "KQpDoXqZ98Dx",
        "outputId": "7bf0bb38-03c2-40a2-aa65-6ff26c83ae82"
      },
      "execution_count": null,
      "outputs": [
        {
          "output_type": "execute_result",
          "data": {
            "text/plain": [
              "'hello'"
            ],
            "application/vnd.google.colaboratory.intrinsic+json": {
              "type": "string"
            }
          },
          "metadata": {},
          "execution_count": 23
        }
      ]
    },
    {
      "cell_type": "code",
      "source": [
        "not 'hello'"
      ],
      "metadata": {
        "colab": {
          "base_uri": "https://localhost:8080/"
        },
        "id": "AVGxuYfP-Wgg",
        "outputId": "af5e32fd-906b-4bb0-8eab-f56b32347269"
      },
      "execution_count": null,
      "outputs": [
        {
          "output_type": "execute_result",
          "data": {
            "text/plain": [
              "False"
            ]
          },
          "metadata": {},
          "execution_count": 25
        }
      ]
    },
    {
      "cell_type": "code",
      "source": [
        "# In python, if string is empty then it considers it as false\n",
        "# If string is not empty, then it considers it as true\n",
        "# So in and, it checks both words to be true\n",
        "# In or, it checks first one as true, returns only that word"
      ],
      "metadata": {
        "id": "x8OWvpPG9_jp"
      },
      "execution_count": null,
      "outputs": []
    },
    {
      "cell_type": "markdown",
      "source": [
        "Loops Iteration & Membership Operations"
      ],
      "metadata": {
        "id": "3_ZDShjQ-rha"
      }
    },
    {
      "cell_type": "code",
      "source": [
        "for i in 'hello':\n",
        "  print(i)"
      ],
      "metadata": {
        "colab": {
          "base_uri": "https://localhost:8080/"
        },
        "id": "51Cy_PdA-M7N",
        "outputId": "d705d661-817d-4641-825d-e0e98db77399"
      },
      "execution_count": null,
      "outputs": [
        {
          "output_type": "stream",
          "name": "stdout",
          "text": [
            "h\n",
            "e\n",
            "l\n",
            "l\n",
            "o\n"
          ]
        }
      ]
    },
    {
      "cell_type": "code",
      "source": [
        "'D' in 'Delhi'"
      ],
      "metadata": {
        "colab": {
          "base_uri": "https://localhost:8080/"
        },
        "id": "Jz5bXqsD-wTc",
        "outputId": "884b23a1-1cf3-4cdb-ce55-2553ff60068a"
      },
      "execution_count": null,
      "outputs": [
        {
          "output_type": "execute_result",
          "data": {
            "text/plain": [
              "True"
            ]
          },
          "metadata": {},
          "execution_count": 28
        }
      ]
    },
    {
      "cell_type": "code",
      "source": [
        "'D' not in 'Delhi'"
      ],
      "metadata": {
        "colab": {
          "base_uri": "https://localhost:8080/"
        },
        "id": "As2Cvf1u-6n5",
        "outputId": "95ad9c84-d1a7-4f51-a7da-0be1d8526fdd"
      },
      "execution_count": null,
      "outputs": [
        {
          "output_type": "execute_result",
          "data": {
            "text/plain": [
              "False"
            ]
          },
          "metadata": {},
          "execution_count": 29
        }
      ]
    },
    {
      "cell_type": "markdown",
      "source": [
        "# String Functions"
      ],
      "metadata": {
        "id": "Hi5uQlyk_Csm"
      }
    },
    {
      "cell_type": "markdown",
      "source": [
        "# Common Functions (Work on all data-types)\n",
        "*   len\n",
        "*   max\n",
        "*   min\n",
        "*   sorted\n",
        "\n"
      ],
      "metadata": {
        "id": "jX48eKcX_Eyo"
      }
    },
    {
      "cell_type": "code",
      "source": [
        "len('Hello World')"
      ],
      "metadata": {
        "colab": {
          "base_uri": "https://localhost:8080/"
        },
        "id": "DyhZ77PG-8WB",
        "outputId": "999502f9-ca62-4d54-df5d-7e64a5a6b657"
      },
      "execution_count": null,
      "outputs": [
        {
          "output_type": "execute_result",
          "data": {
            "text/plain": [
              "11"
            ]
          },
          "metadata": {},
          "execution_count": 33
        }
      ]
    },
    {
      "cell_type": "code",
      "source": [
        "max('Hello World')"
      ],
      "metadata": {
        "colab": {
          "base_uri": "https://localhost:8080/",
          "height": 35
        },
        "id": "BgjO4h-H_ctf",
        "outputId": "8dbdb11b-74d7-46a0-b7b0-8e827ae0edab"
      },
      "execution_count": null,
      "outputs": [
        {
          "output_type": "execute_result",
          "data": {
            "text/plain": [
              "'r'"
            ],
            "application/vnd.google.colaboratory.intrinsic+json": {
              "type": "string"
            }
          },
          "metadata": {},
          "execution_count": 31
        }
      ]
    },
    {
      "cell_type": "code",
      "source": [
        "min('Hello World')"
      ],
      "metadata": {
        "colab": {
          "base_uri": "https://localhost:8080/",
          "height": 35
        },
        "id": "a5ZVGnEi_fX0",
        "outputId": "d274d40b-b88b-4734-b0a4-5b108a932986"
      },
      "execution_count": null,
      "outputs": [
        {
          "output_type": "execute_result",
          "data": {
            "text/plain": [
              "' '"
            ],
            "application/vnd.google.colaboratory.intrinsic+json": {
              "type": "string"
            }
          },
          "metadata": {},
          "execution_count": 32
        }
      ]
    },
    {
      "cell_type": "code",
      "source": [
        "sorted('Hello World') # --> Returns a list"
      ],
      "metadata": {
        "colab": {
          "base_uri": "https://localhost:8080/"
        },
        "id": "wlSB0VPY_hGk",
        "outputId": "eac73833-ccb7-4418-d4de-79d271a763e7"
      },
      "execution_count": null,
      "outputs": [
        {
          "output_type": "execute_result",
          "data": {
            "text/plain": [
              "[' ', 'H', 'W', 'd', 'e', 'l', 'l', 'l', 'o', 'o', 'r']"
            ]
          },
          "metadata": {},
          "execution_count": 34
        }
      ]
    },
    {
      "cell_type": "code",
      "source": [
        "sorted('Hello World',reverse = True)"
      ],
      "metadata": {
        "colab": {
          "base_uri": "https://localhost:8080/"
        },
        "id": "lvDVo0nr_pxZ",
        "outputId": "8e221ff4-6b4a-4155-8605-a7f84d68bde5"
      },
      "execution_count": null,
      "outputs": [
        {
          "output_type": "execute_result",
          "data": {
            "text/plain": [
              "['r', 'o', 'o', 'l', 'l', 'l', 'e', 'd', 'W', 'H', ' ']"
            ]
          },
          "metadata": {},
          "execution_count": 35
        }
      ]
    },
    {
      "cell_type": "markdown",
      "source": [
        "#Capitalize/Title/Upper/Lower/SwapCase\n",
        "\n",
        "\n"
      ],
      "metadata": {
        "id": "jTFq1QTq_xXn"
      }
    },
    {
      "cell_type": "code",
      "source": [
        "s = 'hello World'\n",
        "s.capitalize()"
      ],
      "metadata": {
        "colab": {
          "base_uri": "https://localhost:8080/",
          "height": 35
        },
        "id": "KLGcfOVX_twL",
        "outputId": "5fe2299f-aaeb-4a61-dbbf-884bdee33bcb"
      },
      "execution_count": null,
      "outputs": [
        {
          "output_type": "execute_result",
          "data": {
            "text/plain": [
              "'Hello world'"
            ],
            "application/vnd.google.colaboratory.intrinsic+json": {
              "type": "string"
            }
          },
          "metadata": {},
          "execution_count": 36
        }
      ]
    },
    {
      "cell_type": "code",
      "source": [
        "s = 'hello World'\n",
        "s.title()"
      ],
      "metadata": {
        "colab": {
          "base_uri": "https://localhost:8080/",
          "height": 35
        },
        "id": "2Qa888ko_9UP",
        "outputId": "a8f66c58-e8e2-4b3e-a28c-df39b451e84d"
      },
      "execution_count": null,
      "outputs": [
        {
          "output_type": "execute_result",
          "data": {
            "text/plain": [
              "'Hello World'"
            ],
            "application/vnd.google.colaboratory.intrinsic+json": {
              "type": "string"
            }
          },
          "metadata": {},
          "execution_count": 37
        }
      ]
    },
    {
      "cell_type": "code",
      "source": [
        "s = 'hello World'\n",
        "s.upper()"
      ],
      "metadata": {
        "colab": {
          "base_uri": "https://localhost:8080/",
          "height": 35
        },
        "id": "v-i57ZO_AAdv",
        "outputId": "f04a05d2-e61f-4c51-ddea-16a20dabc609"
      },
      "execution_count": null,
      "outputs": [
        {
          "output_type": "execute_result",
          "data": {
            "text/plain": [
              "'HELLO WORLD'"
            ],
            "application/vnd.google.colaboratory.intrinsic+json": {
              "type": "string"
            }
          },
          "metadata": {},
          "execution_count": 38
        }
      ]
    },
    {
      "cell_type": "code",
      "source": [
        "s = 'hello World'\n",
        "s.lower()"
      ],
      "metadata": {
        "colab": {
          "base_uri": "https://localhost:8080/",
          "height": 35
        },
        "id": "8WMWa3YgAD27",
        "outputId": "f32f5191-c4b1-4181-ebfa-5e7a91da5b2b"
      },
      "execution_count": null,
      "outputs": [
        {
          "output_type": "execute_result",
          "data": {
            "text/plain": [
              "'hello world'"
            ],
            "application/vnd.google.colaboratory.intrinsic+json": {
              "type": "string"
            }
          },
          "metadata": {},
          "execution_count": 39
        }
      ]
    },
    {
      "cell_type": "code",
      "source": [
        "s = 'hello World'\n",
        "s.swapcase()"
      ],
      "metadata": {
        "colab": {
          "base_uri": "https://localhost:8080/",
          "height": 35
        },
        "id": "17pMiWuEAGqX",
        "outputId": "e9c050a3-8908-445e-a417-ea9bd594ac04"
      },
      "execution_count": null,
      "outputs": [
        {
          "output_type": "execute_result",
          "data": {
            "text/plain": [
              "'HELLO wORLD'"
            ],
            "application/vnd.google.colaboratory.intrinsic+json": {
              "type": "string"
            }
          },
          "metadata": {},
          "execution_count": 40
        }
      ]
    },
    {
      "cell_type": "markdown",
      "source": [
        "# Count/Find/Index"
      ],
      "metadata": {
        "id": "5z1tW_rmALyp"
      }
    },
    {
      "cell_type": "code",
      "source": [
        "\"My Name is Sidhi\".count('i')"
      ],
      "metadata": {
        "colab": {
          "base_uri": "https://localhost:8080/"
        },
        "id": "cAqVdeDvAKB8",
        "outputId": "a5c0578c-b612-4ac3-8290-b356047ec6ad"
      },
      "execution_count": null,
      "outputs": [
        {
          "output_type": "execute_result",
          "data": {
            "text/plain": [
              "3"
            ]
          },
          "metadata": {},
          "execution_count": 41
        }
      ]
    },
    {
      "cell_type": "code",
      "source": [
        "\"My Name is Sidhi\".find(\"is\")"
      ],
      "metadata": {
        "colab": {
          "base_uri": "https://localhost:8080/"
        },
        "id": "_JoH8BuwARtw",
        "outputId": "7ffdcbc4-6efa-4c64-9a7c-c0520fa50851"
      },
      "execution_count": null,
      "outputs": [
        {
          "output_type": "execute_result",
          "data": {
            "text/plain": [
              "8"
            ]
          },
          "metadata": {},
          "execution_count": 42
        }
      ]
    },
    {
      "cell_type": "code",
      "source": [
        "\"My Name is Sidhi\".find(\"x\")"
      ],
      "metadata": {
        "colab": {
          "base_uri": "https://localhost:8080/"
        },
        "id": "-ZTysQkTAWDS",
        "outputId": "d3175fce-b8b7-4c21-e838-375353aa7c4b"
      },
      "execution_count": null,
      "outputs": [
        {
          "output_type": "execute_result",
          "data": {
            "text/plain": [
              "-1"
            ]
          },
          "metadata": {},
          "execution_count": 43
        }
      ]
    },
    {
      "cell_type": "code",
      "source": [
        "\"My Name is Sidhi\".index(\"is\")\n",
        "# Throws error if something is not in the String"
      ],
      "metadata": {
        "colab": {
          "base_uri": "https://localhost:8080/"
        },
        "id": "Bdfoj5Q-AcUq",
        "outputId": "57b4a735-3f88-4a50-f9cc-d0a1da525203"
      },
      "execution_count": null,
      "outputs": [
        {
          "output_type": "execute_result",
          "data": {
            "text/plain": [
              "8"
            ]
          },
          "metadata": {},
          "execution_count": 44
        }
      ]
    },
    {
      "cell_type": "markdown",
      "source": [
        "# Endswith / Startwith\n"
      ],
      "metadata": {
        "id": "bZaf3aoSAmbd"
      }
    },
    {
      "cell_type": "code",
      "source": [
        "'My Name is Sidhi'.endswith('dhi')"
      ],
      "metadata": {
        "colab": {
          "base_uri": "https://localhost:8080/"
        },
        "id": "4PC4AYE9AlID",
        "outputId": "bfcb8440-9b53-412a-d51c-7068d93d0d37"
      },
      "execution_count": null,
      "outputs": [
        {
          "output_type": "execute_result",
          "data": {
            "text/plain": [
              "True"
            ]
          },
          "metadata": {},
          "execution_count": 45
        }
      ]
    },
    {
      "cell_type": "code",
      "source": [
        "'My Name is Sidhi'.endswith('dh')"
      ],
      "metadata": {
        "colab": {
          "base_uri": "https://localhost:8080/"
        },
        "id": "ZDx0ALQTAtgs",
        "outputId": "6551e1f5-c77b-4c96-c515-9d33fd6386a6"
      },
      "execution_count": null,
      "outputs": [
        {
          "output_type": "execute_result",
          "data": {
            "text/plain": [
              "False"
            ]
          },
          "metadata": {},
          "execution_count": 46
        }
      ]
    },
    {
      "cell_type": "code",
      "source": [
        "'My Name is Sidhi'.startswith('My')"
      ],
      "metadata": {
        "colab": {
          "base_uri": "https://localhost:8080/"
        },
        "id": "4jXSUW8KAxAO",
        "outputId": "6c0a7eb2-81b5-46dc-95c1-df08e29635c8"
      },
      "execution_count": null,
      "outputs": [
        {
          "output_type": "execute_result",
          "data": {
            "text/plain": [
              "True"
            ]
          },
          "metadata": {},
          "execution_count": 47
        }
      ]
    },
    {
      "cell_type": "code",
      "source": [
        "'My Name is Sidhi'.startswith('my')"
      ],
      "metadata": {
        "colab": {
          "base_uri": "https://localhost:8080/"
        },
        "id": "MvE2OfyaA02g",
        "outputId": "8c389813-79ce-4033-c69c-f12787258fb4"
      },
      "execution_count": null,
      "outputs": [
        {
          "output_type": "execute_result",
          "data": {
            "text/plain": [
              "False"
            ]
          },
          "metadata": {},
          "execution_count": 48
        }
      ]
    },
    {
      "cell_type": "markdown",
      "source": [
        "# Format"
      ],
      "metadata": {
        "id": "Zi28jOHaA4i8"
      }
    },
    {
      "cell_type": "code",
      "source": [
        "name = 'Sidhi'\n",
        "gender = 'Female'\n",
        "\n",
        "'Hi My Name is {} and I am a {}'.format(name,gender)"
      ],
      "metadata": {
        "colab": {
          "base_uri": "https://localhost:8080/",
          "height": 35
        },
        "id": "kWtnpOKbA3f7",
        "outputId": "7e092a84-30dc-4e12-d88b-23e0a84ab7c7"
      },
      "execution_count": null,
      "outputs": [
        {
          "output_type": "execute_result",
          "data": {
            "text/plain": [
              "'Hi My Name is Sidhi and I am a Female'"
            ],
            "application/vnd.google.colaboratory.intrinsic+json": {
              "type": "string"
            }
          },
          "metadata": {},
          "execution_count": 51
        }
      ]
    },
    {
      "cell_type": "markdown",
      "source": [
        "# isalnum/isalpha/isdigit/isidentifier"
      ],
      "metadata": {
        "id": "N6JoffMOBLKD"
      }
    },
    {
      "cell_type": "code",
      "source": [
        "'Sidhi1234'.isalnum()"
      ],
      "metadata": {
        "colab": {
          "base_uri": "https://localhost:8080/"
        },
        "id": "7CjBDGp6A_1p",
        "outputId": "580ebc19-9827-4afb-84ee-ec692a4fd8fb"
      },
      "execution_count": null,
      "outputs": [
        {
          "output_type": "execute_result",
          "data": {
            "text/plain": [
              "True"
            ]
          },
          "metadata": {},
          "execution_count": 52
        }
      ]
    },
    {
      "cell_type": "code",
      "source": [
        "'Sidhi1234%'.isalnum()"
      ],
      "metadata": {
        "colab": {
          "base_uri": "https://localhost:8080/"
        },
        "id": "4IBLm8vHBizE",
        "outputId": "c69e1c59-1cad-4c42-bc15-e19afdb491a2"
      },
      "execution_count": null,
      "outputs": [
        {
          "output_type": "execute_result",
          "data": {
            "text/plain": [
              "False"
            ]
          },
          "metadata": {},
          "execution_count": 53
        }
      ]
    },
    {
      "cell_type": "code",
      "source": [
        "'Sidhi'.isalpha()"
      ],
      "metadata": {
        "colab": {
          "base_uri": "https://localhost:8080/"
        },
        "id": "Q6iR7_qHBku8",
        "outputId": "176e8f00-ed06-47b2-cb75-c487029ec6ed"
      },
      "execution_count": null,
      "outputs": [
        {
          "output_type": "execute_result",
          "data": {
            "text/plain": [
              "True"
            ]
          },
          "metadata": {},
          "execution_count": 54
        }
      ]
    },
    {
      "cell_type": "code",
      "source": [
        "'123'.isdigit()"
      ],
      "metadata": {
        "colab": {
          "base_uri": "https://localhost:8080/"
        },
        "id": "POydXdNdBmyh",
        "outputId": "071c1d07-61bd-4770-c1af-03906d06e634"
      },
      "execution_count": null,
      "outputs": [
        {
          "output_type": "execute_result",
          "data": {
            "text/plain": [
              "True"
            ]
          },
          "metadata": {},
          "execution_count": 55
        }
      ]
    },
    {
      "cell_type": "code",
      "source": [
        "'1name'.isidentifier()"
      ],
      "metadata": {
        "colab": {
          "base_uri": "https://localhost:8080/"
        },
        "id": "NZksdl3OBpE6",
        "outputId": "63361206-09f2-4149-8457-2886c614829b"
      },
      "execution_count": null,
      "outputs": [
        {
          "output_type": "execute_result",
          "data": {
            "text/plain": [
              "False"
            ]
          },
          "metadata": {},
          "execution_count": 58
        }
      ]
    },
    {
      "cell_type": "code",
      "source": [
        "'name1'.isidentifier()"
      ],
      "metadata": {
        "colab": {
          "base_uri": "https://localhost:8080/"
        },
        "id": "5vDRvczuBrWX",
        "outputId": "80aad408-71b4-4289-8d94-fadae29c2359"
      },
      "execution_count": null,
      "outputs": [
        {
          "output_type": "execute_result",
          "data": {
            "text/plain": [
              "True"
            ]
          },
          "metadata": {},
          "execution_count": 59
        }
      ]
    },
    {
      "cell_type": "markdown",
      "source": [
        "# Split/Join"
      ],
      "metadata": {
        "id": "Da_29DQ9BznI"
      }
    },
    {
      "cell_type": "code",
      "source": [
        "'Hi my name is Sidhi'.split('i')"
      ],
      "metadata": {
        "colab": {
          "base_uri": "https://localhost:8080/"
        },
        "id": "dTDbIhKFBu4H",
        "outputId": "9b65708a-6345-4d98-f2e9-8d206e8fb5f9"
      },
      "execution_count": null,
      "outputs": [
        {
          "output_type": "execute_result",
          "data": {
            "text/plain": [
              "['H', ' my name ', 's S', 'dh', '']"
            ]
          },
          "metadata": {},
          "execution_count": 60
        }
      ]
    },
    {
      "cell_type": "code",
      "source": [
        "\"-\".join(['H', ' my name ', 's S', 'dh', ''])"
      ],
      "metadata": {
        "colab": {
          "base_uri": "https://localhost:8080/",
          "height": 35
        },
        "id": "duedZKdCB-tI",
        "outputId": "953f482a-7e11-4b0d-adda-fd0327c8e792"
      },
      "execution_count": null,
      "outputs": [
        {
          "output_type": "execute_result",
          "data": {
            "text/plain": [
              "'H- my name -s S-dh-'"
            ],
            "application/vnd.google.colaboratory.intrinsic+json": {
              "type": "string"
            }
          },
          "metadata": {},
          "execution_count": 62
        }
      ]
    },
    {
      "cell_type": "markdown",
      "source": [
        "# Replace"
      ],
      "metadata": {
        "id": "ijlcP86bCQLz"
      }
    },
    {
      "cell_type": "code",
      "source": [
        "\"Hi My Name is Sidhi\".replace(\"Sidhi\",\"Gupta\")"
      ],
      "metadata": {
        "colab": {
          "base_uri": "https://localhost:8080/",
          "height": 35
        },
        "id": "HG0d-tkICIWE",
        "outputId": "3c106775-e0aa-43ba-f7f1-7e1b26cdd3d0"
      },
      "execution_count": null,
      "outputs": [
        {
          "output_type": "execute_result",
          "data": {
            "text/plain": [
              "'Hi My Name is Gupta'"
            ],
            "application/vnd.google.colaboratory.intrinsic+json": {
              "type": "string"
            }
          },
          "metadata": {},
          "execution_count": 63
        }
      ]
    },
    {
      "cell_type": "markdown",
      "source": [
        "# Strip"
      ],
      "metadata": {
        "id": "d5GrQoJ4CaJ0"
      }
    },
    {
      "cell_type": "code",
      "source": [
        "# When Adding name in database we strip the info so that, it becomes a clean code\n",
        "'Sidhi             '.strip()"
      ],
      "metadata": {
        "colab": {
          "base_uri": "https://localhost:8080/",
          "height": 35
        },
        "id": "K14uoiKWCYNZ",
        "outputId": "c50fdf7d-401d-454c-ae74-5fdfc5e47b9b"
      },
      "execution_count": null,
      "outputs": [
        {
          "output_type": "execute_result",
          "data": {
            "text/plain": [
              "'Sidhi'"
            ],
            "application/vnd.google.colaboratory.intrinsic+json": {
              "type": "string"
            }
          },
          "metadata": {},
          "execution_count": 64
        }
      ]
    },
    {
      "cell_type": "markdown",
      "source": [
        "# Example Programs"
      ],
      "metadata": {
        "id": "hF4sYJznESYS"
      }
    },
    {
      "cell_type": "code",
      "source": [
        "# Find length of String without using len function\n",
        "str = input(\"Enter String: \")\n",
        "\n",
        "cnt = 0\n",
        "\n",
        "for i in str:\n",
        "  cnt += 1\n",
        "\n",
        "print(\"Length is: \", cnt)"
      ],
      "metadata": {
        "colab": {
          "base_uri": "https://localhost:8080/"
        },
        "id": "LCnEatBvChby",
        "outputId": "08f7602f-368c-41c0-887a-58c3f2744657"
      },
      "execution_count": null,
      "outputs": [
        {
          "output_type": "stream",
          "name": "stdout",
          "text": [
            "Enter String: Hello World\n",
            "Length is:  11\n"
          ]
        }
      ]
    },
    {
      "cell_type": "code",
      "source": [
        "# Extract user-name from Email\n",
        "\n",
        "email = input(\"Enter Email: \")\n",
        "\n",
        "# for i in email:\n",
        "#   if i == '@':\n",
        "#     break\n",
        "#   else:\n",
        "#     print(i,end=\"\")\n",
        "# print(\"\\n\")\n",
        "\n",
        "index = email.index('@')\n",
        "print(email[0:index])"
      ],
      "metadata": {
        "colab": {
          "base_uri": "https://localhost:8080/"
        },
        "id": "D_e-ZkfwEfJk",
        "outputId": "daa387b3-027f-4eae-9d95-aa4f2188b755"
      },
      "execution_count": null,
      "outputs": [
        {
          "output_type": "stream",
          "name": "stdout",
          "text": [
            "Enter Email: Sdhid48@\n",
            "Sdhid48\n",
            "\n",
            "Sdhid48\n"
          ]
        }
      ]
    },
    {
      "cell_type": "code",
      "source": [
        "# Removing Particular Character from String\n",
        "\n",
        "# --> Use of Continue Statement\n",
        "# --> Use of Split and Join\n",
        "\n",
        "str = input(\"Enter String: \")\n",
        "char = input(\"Enter character removed from String: \")\n",
        "\n",
        "str1 = str.split(char)\n",
        "new_string = \"\".join(str1)\n",
        "print(new_string)"
      ],
      "metadata": {
        "colab": {
          "base_uri": "https://localhost:8080/"
        },
        "id": "kU6XBMlBE0AQ",
        "outputId": "e6c090fd-63cd-40c4-f44d-c2f445eea6a2"
      },
      "execution_count": null,
      "outputs": [
        {
          "output_type": "stream",
          "name": "stdout",
          "text": [
            "Enter String: Hello World\n",
            "Enter character removed from String: l\n",
            "Heo Word\n"
          ]
        }
      ]
    },
    {
      "cell_type": "code",
      "source": [
        "# Checking if String is Palindromic or not\n",
        "\n",
        "s = input(\"Enter String: \")\n",
        "flag = True\n",
        "for i in range(0,len(s)//2):\n",
        "  if s[i] != s[len(s)-i-1]:\n",
        "    flag = False\n",
        "    print(\"Not a Palindrome\")\n",
        "    break\n",
        "\n",
        "if flag == True:\n",
        "  print(\"Palindrome\")"
      ],
      "metadata": {
        "colab": {
          "base_uri": "https://localhost:8080/"
        },
        "id": "BGRkYQHgGFRv",
        "outputId": "4aa94376-47dd-48f2-e81c-fbb008f86168"
      },
      "execution_count": null,
      "outputs": [
        {
          "output_type": "stream",
          "name": "stdout",
          "text": [
            "Enter String: abbb\n",
            "Not a Palindrome\n"
          ]
        }
      ]
    },
    {
      "cell_type": "code",
      "source": [
        "# Count the number of words without using Split Function\n",
        "\n",
        "s = input(\"Enter String: \")\n",
        "\n",
        "cnt = 0\n",
        "for i in s:\n",
        "  if i == ' ':\n",
        "    cnt += 1\n",
        "print(\"Number of Words: \",cnt+1)"
      ],
      "metadata": {
        "colab": {
          "base_uri": "https://localhost:8080/"
        },
        "id": "mSaMSJNvGxhn",
        "outputId": "355cb9be-57c0-4d4c-c280-abc48338af8a"
      },
      "execution_count": null,
      "outputs": [
        {
          "output_type": "stream",
          "name": "stdout",
          "text": [
            "Enter String: My Name is Sidhi Gupta\n",
            "Number of Words:  5\n"
          ]
        }
      ]
    },
    {
      "cell_type": "code",
      "source": [
        "# Convert string to Title Case without using Title Function\n",
        "\n",
        "s = input(\"Enter String: \")\n",
        "\n",
        "l = []\n",
        "for i in s.split():\n",
        "  l.append(i[0].upper() + i[1:].lower())\n",
        "\n",
        "print(\" \".join(l))"
      ],
      "metadata": {
        "colab": {
          "base_uri": "https://localhost:8080/"
        },
        "id": "YVPzLUd5HM5z",
        "outputId": "23a7b6e9-614f-428d-a724-a6b52faaf71d"
      },
      "execution_count": null,
      "outputs": [
        {
          "output_type": "stream",
          "name": "stdout",
          "text": [
            "Enter String: hi how are you\n",
            "Hi How Are You\n"
          ]
        }
      ]
    },
    {
      "cell_type": "code",
      "source": [
        "# Convert Number to String\n",
        "\n",
        "n = int(input(\"Enter number: \"))\n",
        "\n",
        "digits = '0123456789'\n",
        "result = \"\"\n",
        "\n",
        "while n != 0:\n",
        "  result = digits[n%10] + result\n",
        "  n = n//10\n",
        "\n",
        "print(result)\n",
        "print(type(result))"
      ],
      "metadata": {
        "colab": {
          "base_uri": "https://localhost:8080/"
        },
        "id": "qo8xiB5OICsc",
        "outputId": "cd18f8bc-7861-4433-9f0c-70ad07db1134"
      },
      "execution_count": null,
      "outputs": [
        {
          "output_type": "stream",
          "name": "stdout",
          "text": [
            "Enter number: 458\n",
            "458\n",
            "<class 'str'>\n"
          ]
        }
      ]
    },
    {
      "cell_type": "code",
      "source": [],
      "metadata": {
        "id": "qD2SiHD6I5K2"
      },
      "execution_count": null,
      "outputs": []
    }
  ]
}