{
  "nbformat": 4,
  "nbformat_minor": 0,
  "metadata": {
    "colab": {
      "provenance": []
    },
    "kernelspec": {
      "name": "python3",
      "display_name": "Python 3"
    },
    "language_info": {
      "name": "python"
    }
  },
  "cells": [
    {
      "cell_type": "markdown",
      "source": [
        "# Functions\n",
        "\n",
        "* By Providing input, we get output\n",
        "* 2 types --> Built-in and User Defined\n",
        "* Code Resuability\n",
        "* Abstraction (dont't know about the working inside the function)\n",
        "* Decomposition (Decompose tasks into functions)\n",
        "* Input is parameter in function defintion\n",
        "* Input used in function calling are arguments"
      ],
      "metadata": {
        "id": "SwJmlFePVAZ2"
      }
    },
    {
      "cell_type": "code",
      "execution_count": null,
      "metadata": {
        "colab": {
          "base_uri": "https://localhost:8080/"
        },
        "id": "vo8KAvJuUt3x",
        "outputId": "c4d2f0c3-4581-4ca7-dfff-233424066a3b"
      },
      "outputs": [
        {
          "output_type": "execute_result",
          "data": {
            "text/plain": [
              "False"
            ]
          },
          "metadata": {},
          "execution_count": 1
        }
      ],
      "source": [
        "def is_even(i):\n",
        "  '''Returns true if element is even'''\n",
        "  return i%2 == 0\n",
        "\n",
        "is_even(7)"
      ]
    },
    {
      "cell_type": "code",
      "source": [
        "# Accessing Docstring\n",
        "print(is_even.__doc__)"
      ],
      "metadata": {
        "colab": {
          "base_uri": "https://localhost:8080/"
        },
        "id": "v-R3xvyRZ59H",
        "outputId": "f250f414-455e-46ce-dfa0-355b88139b95"
      },
      "execution_count": null,
      "outputs": [
        {
          "output_type": "stream",
          "name": "stdout",
          "text": [
            "Returns true if element is even\n"
          ]
        }
      ]
    },
    {
      "cell_type": "markdown",
      "source": [
        "# Points of View\n",
        "\n",
        "* As junior Developer is sending any other data type than int, he will get a error, which is a mistake of senior developer\n"
      ],
      "metadata": {
        "id": "Kz_ar-WlWj4h"
      }
    },
    {
      "cell_type": "code",
      "source": [
        "def is_even(i):\n",
        "  '''Returns true if element is even'''\n",
        "  if type(i) != 'int': return \"Doesn't Allow\"\n",
        "  return i%2 == 0\n",
        "\n",
        "is_even('Hello')"
      ],
      "metadata": {
        "colab": {
          "base_uri": "https://localhost:8080/",
          "height": 35
        },
        "id": "a5V-qZ7uWIZz",
        "outputId": "4c620479-107d-445b-c27c-eb796f03766a"
      },
      "execution_count": null,
      "outputs": [
        {
          "output_type": "execute_result",
          "data": {
            "text/plain": [
              "\"Doesn't Allow\""
            ],
            "application/vnd.google.colaboratory.intrinsic+json": {
              "type": "string"
            }
          },
          "metadata": {},
          "execution_count": 2
        }
      ]
    },
    {
      "cell_type": "markdown",
      "source": [
        "# Types of Arguments\n",
        "* Default Arguments\n",
        "* Positional Arguments\n",
        "* Keyword Arguments"
      ],
      "metadata": {
        "id": "AAOwcVedXRv6"
      }
    },
    {
      "cell_type": "markdown",
      "source": [
        "Default"
      ],
      "metadata": {
        "id": "DsFVRiCIXrfZ"
      }
    },
    {
      "cell_type": "code",
      "source": [
        "def power(a,b):\n",
        "  return a**b"
      ],
      "metadata": {
        "id": "yq_BKZGXW5wX"
      },
      "execution_count": null,
      "outputs": []
    },
    {
      "cell_type": "code",
      "source": [
        "# power(2) Provides Error"
      ],
      "metadata": {
        "id": "kKYWwceQXeh_"
      },
      "execution_count": null,
      "outputs": []
    },
    {
      "cell_type": "code",
      "source": [
        "def power(a=1,b=1):\n",
        "  return a**b\n",
        "\n",
        "power(2)"
      ],
      "metadata": {
        "colab": {
          "base_uri": "https://localhost:8080/"
        },
        "id": "nwHxUfJxXl3G",
        "outputId": "6f68b03e-48fe-4174-9d4f-5dd4f2efbece"
      },
      "execution_count": null,
      "outputs": [
        {
          "output_type": "execute_result",
          "data": {
            "text/plain": [
              "2"
            ]
          },
          "metadata": {},
          "execution_count": 4
        }
      ]
    },
    {
      "cell_type": "markdown",
      "source": [
        "Positional"
      ],
      "metadata": {
        "id": "2BK9GiTmX12A"
      }
    },
    {
      "cell_type": "code",
      "source": [
        "power(2,3)"
      ],
      "metadata": {
        "colab": {
          "base_uri": "https://localhost:8080/"
        },
        "id": "TQvmfJw8XlzY",
        "outputId": "c572c83b-e0e5-4178-cb60-435f95e567e1"
      },
      "execution_count": null,
      "outputs": [
        {
          "output_type": "execute_result",
          "data": {
            "text/plain": [
              "8"
            ]
          },
          "metadata": {},
          "execution_count": 6
        }
      ]
    },
    {
      "cell_type": "markdown",
      "source": [
        "Keyword"
      ],
      "metadata": {
        "id": "Whw8yJwKYD8E"
      }
    },
    {
      "cell_type": "code",
      "source": [
        "power(b=3,a=2)\n",
        "# They are used in many ML Algorithms where there are so many parameters"
      ],
      "metadata": {
        "colab": {
          "base_uri": "https://localhost:8080/"
        },
        "id": "Z8Ehh4inX4gt",
        "outputId": "78d2db54-6503-4c14-a612-7c304329398c"
      },
      "execution_count": null,
      "outputs": [
        {
          "output_type": "execute_result",
          "data": {
            "text/plain": [
              "8"
            ]
          },
          "metadata": {},
          "execution_count": 7
        }
      ]
    },
    {
      "cell_type": "markdown",
      "source": [
        "# args and kwargs\n",
        "Used to pass variable length arguments to function"
      ],
      "metadata": {
        "id": "Jn7317n4ZNHz"
      }
    },
    {
      "cell_type": "code",
      "source": [
        "# It passes non-keyword Arguments\n",
        "def multiply(*b):\n",
        "  pro = 1\n",
        "\n",
        "  for i in b:\n",
        "    pro *= i\n",
        "\n",
        "  return pro"
      ],
      "metadata": {
        "id": "l4FvPVmKYGvn"
      },
      "execution_count": null,
      "outputs": []
    },
    {
      "cell_type": "code",
      "source": [
        "multiply(2,3,4)"
      ],
      "metadata": {
        "colab": {
          "base_uri": "https://localhost:8080/"
        },
        "id": "YE_hQiAdZZsS",
        "outputId": "e075cbd1-f1a4-453f-ad7c-117dcdc083cb"
      },
      "execution_count": null,
      "outputs": [
        {
          "output_type": "execute_result",
          "data": {
            "text/plain": [
              "24"
            ]
          },
          "metadata": {},
          "execution_count": 10
        }
      ]
    },
    {
      "cell_type": "code",
      "source": [
        "# It passes Keyword Arguments means passing (key,value) pairs\n",
        "# That's why kw --> Keyword\n",
        "\n",
        "def display(**kwargs):\n",
        "  for (key,value) in kwargs.items():\n",
        "    print(key,'->',value)\n",
        "\n",
        "display(India = 'Delhi',Srilanka = 'Colombo',Nepal = 'Kathmandu')"
      ],
      "metadata": {
        "colab": {
          "base_uri": "https://localhost:8080/"
        },
        "id": "bZ2c2bHAZjvY",
        "outputId": "70ab73e4-e0fa-4bc3-c8da-b0e438f3cc4c"
      },
      "execution_count": null,
      "outputs": [
        {
          "output_type": "stream",
          "name": "stdout",
          "text": [
            "India -> Delhi\n",
            "Srilanka -> Colombo\n",
            "Nepal -> Kathmandu\n"
          ]
        }
      ]
    },
    {
      "cell_type": "markdown",
      "source": [
        "* If args and kwargs are used simultaneously, then we use args first and then kwargs\n",
        "\n",
        "* Whenever function returns, then it destroys the function call in memory"
      ],
      "metadata": {
        "id": "uvIL00xSamx2"
      }
    },
    {
      "cell_type": "markdown",
      "source": [
        "# Without Return Statement\n",
        "\n",
        "* As there is no return statement, it will still return none which is default value"
      ],
      "metadata": {
        "id": "ojQzI4gYbov_"
      }
    },
    {
      "cell_type": "code",
      "source": [
        "L = [1,2,3]\n",
        "print(L.append(4)) # Append function will return\n",
        "print(L)"
      ],
      "metadata": {
        "colab": {
          "base_uri": "https://localhost:8080/"
        },
        "id": "TXCroyqFaiAa",
        "outputId": "7fc561a7-ada1-4745-903a-703e29708e1f"
      },
      "execution_count": null,
      "outputs": [
        {
          "output_type": "stream",
          "name": "stdout",
          "text": [
            "None\n",
            "[1, 2, 3, 4]\n"
          ]
        }
      ]
    },
    {
      "cell_type": "markdown",
      "source": [
        "# Varible Scope\n",
        "\n",
        "* Local inside functions\n",
        "* Global outside functions"
      ],
      "metadata": {
        "id": "d6mLLQj3oVX6"
      }
    },
    {
      "cell_type": "code",
      "source": [
        "def g(y):\n",
        "  print(x)\n",
        "  print(x+1)\n",
        "\n",
        "x = 5\n",
        "g(x)\n",
        "print(x)"
      ],
      "metadata": {
        "colab": {
          "base_uri": "https://localhost:8080/"
        },
        "id": "7bMk38i6cS03",
        "outputId": "f6cd624b-7765-4eb4-af48-8d14726ad126"
      },
      "execution_count": null,
      "outputs": [
        {
          "output_type": "stream",
          "name": "stdout",
          "text": [
            "5\n",
            "6\n",
            "5\n"
          ]
        }
      ]
    },
    {
      "cell_type": "code",
      "source": [
        "def f(y):\n",
        "  x = 1\n",
        "  x += 1\n",
        "  print(x)\n",
        "\n",
        "x = 5\n",
        "f(x)\n",
        "print(x)"
      ],
      "metadata": {
        "colab": {
          "base_uri": "https://localhost:8080/"
        },
        "id": "UdZBSdd9ohll",
        "outputId": "165e8553-794f-4365-cd9e-733d7f0842e6"
      },
      "execution_count": null,
      "outputs": [
        {
          "output_type": "stream",
          "name": "stdout",
          "text": [
            "2\n",
            "5\n"
          ]
        }
      ]
    },
    {
      "cell_type": "code",
      "source": [
        "def h(y):\n",
        "  x += 1 # Only use it, changes are not allowed in global variable inside any function\n",
        "\n",
        "x = 5\n",
        "h(x)\n",
        "print(x)"
      ],
      "metadata": {
        "colab": {
          "base_uri": "https://localhost:8080/",
          "height": 349
        },
        "id": "dfP8eL0KpD1j",
        "outputId": "6baefe3e-65a8-47ad-95a5-278c7e4f33bc"
      },
      "execution_count": null,
      "outputs": [
        {
          "output_type": "error",
          "ename": "UnboundLocalError",
          "evalue": "local variable 'x' referenced before assignment",
          "traceback": [
            "\u001b[0;31m---------------------------------------------------------------------------\u001b[0m",
            "\u001b[0;31mUnboundLocalError\u001b[0m                         Traceback (most recent call last)",
            "\u001b[0;32m<ipython-input-17-a33afd577a25>\u001b[0m in \u001b[0;36m<cell line: 5>\u001b[0;34m()\u001b[0m\n\u001b[1;32m      3\u001b[0m \u001b[0;34m\u001b[0m\u001b[0m\n\u001b[1;32m      4\u001b[0m \u001b[0mx\u001b[0m \u001b[0;34m=\u001b[0m \u001b[0;36m5\u001b[0m\u001b[0;34m\u001b[0m\u001b[0;34m\u001b[0m\u001b[0m\n\u001b[0;32m----> 5\u001b[0;31m \u001b[0mh\u001b[0m\u001b[0;34m(\u001b[0m\u001b[0mx\u001b[0m\u001b[0;34m)\u001b[0m\u001b[0;34m\u001b[0m\u001b[0;34m\u001b[0m\u001b[0m\n\u001b[0m\u001b[1;32m      6\u001b[0m \u001b[0mprint\u001b[0m\u001b[0;34m(\u001b[0m\u001b[0mx\u001b[0m\u001b[0;34m)\u001b[0m\u001b[0;34m\u001b[0m\u001b[0;34m\u001b[0m\u001b[0m\n",
            "\u001b[0;32m<ipython-input-17-a33afd577a25>\u001b[0m in \u001b[0;36mh\u001b[0;34m(y)\u001b[0m\n\u001b[1;32m      1\u001b[0m \u001b[0;32mdef\u001b[0m \u001b[0mh\u001b[0m\u001b[0;34m(\u001b[0m\u001b[0my\u001b[0m\u001b[0;34m)\u001b[0m\u001b[0;34m:\u001b[0m\u001b[0;34m\u001b[0m\u001b[0;34m\u001b[0m\u001b[0m\n\u001b[0;32m----> 2\u001b[0;31m   \u001b[0mx\u001b[0m \u001b[0;34m+=\u001b[0m \u001b[0;36m1\u001b[0m\u001b[0;34m\u001b[0m\u001b[0;34m\u001b[0m\u001b[0m\n\u001b[0m\u001b[1;32m      3\u001b[0m \u001b[0;34m\u001b[0m\u001b[0m\n\u001b[1;32m      4\u001b[0m \u001b[0mx\u001b[0m \u001b[0;34m=\u001b[0m \u001b[0;36m5\u001b[0m\u001b[0;34m\u001b[0m\u001b[0;34m\u001b[0m\u001b[0m\n\u001b[1;32m      5\u001b[0m \u001b[0mh\u001b[0m\u001b[0;34m(\u001b[0m\u001b[0mx\u001b[0m\u001b[0;34m)\u001b[0m\u001b[0;34m\u001b[0m\u001b[0;34m\u001b[0m\u001b[0m\n",
            "\u001b[0;31mUnboundLocalError\u001b[0m: local variable 'x' referenced before assignment"
          ]
        }
      ]
    },
    {
      "cell_type": "code",
      "source": [
        "def h(y):\n",
        "  global x # This will help us to change, but not consider it as good option\n",
        "  x += 1\n",
        "\n",
        "x = 5\n",
        "h(x)\n",
        "print(x)"
      ],
      "metadata": {
        "colab": {
          "base_uri": "https://localhost:8080/"
        },
        "id": "jvFww3YBpVRr",
        "outputId": "9916a4e2-f03b-45de-8381-d1aa818e4524"
      },
      "execution_count": null,
      "outputs": [
        {
          "output_type": "stream",
          "name": "stdout",
          "text": [
            "6\n"
          ]
        }
      ]
    },
    {
      "cell_type": "markdown",
      "source": [
        "# Nested Functions"
      ],
      "metadata": {
        "id": "KjG-FigdqVsA"
      }
    },
    {
      "cell_type": "code",
      "source": [
        "def f():\n",
        "  def g():\n",
        "    print(\"Inside function g\")\n",
        "  g()\n",
        "  print(\"Inside function f\")\n",
        "\n",
        "f()"
      ],
      "metadata": {
        "colab": {
          "base_uri": "https://localhost:8080/"
        },
        "id": "h3ehaA52p8Za",
        "outputId": "7bf82251-579f-41d6-a0a6-e497a51af35b"
      },
      "execution_count": null,
      "outputs": [
        {
          "output_type": "stream",
          "name": "stdout",
          "text": [
            "Inside function g\n",
            "Inside function f\n"
          ]
        }
      ]
    },
    {
      "cell_type": "code",
      "source": [
        "g()"
      ],
      "metadata": {
        "colab": {
          "base_uri": "https://localhost:8080/",
          "height": 175
        },
        "id": "tnNOzAirqfMQ",
        "outputId": "37c372b0-4db3-4f9c-d76f-bc26f4963b51"
      },
      "execution_count": null,
      "outputs": [
        {
          "output_type": "error",
          "ename": "TypeError",
          "evalue": "g() missing 1 required positional argument: 'y'",
          "traceback": [
            "\u001b[0;31m---------------------------------------------------------------------------\u001b[0m",
            "\u001b[0;31mTypeError\u001b[0m                                 Traceback (most recent call last)",
            "\u001b[0;32m<ipython-input-22-5fd69ddb5074>\u001b[0m in \u001b[0;36m<cell line: 1>\u001b[0;34m()\u001b[0m\n\u001b[0;32m----> 1\u001b[0;31m \u001b[0mg\u001b[0m\u001b[0;34m(\u001b[0m\u001b[0;34m)\u001b[0m\u001b[0;34m\u001b[0m\u001b[0;34m\u001b[0m\u001b[0m\n\u001b[0m",
            "\u001b[0;31mTypeError\u001b[0m: g() missing 1 required positional argument: 'y'"
          ]
        }
      ]
    },
    {
      "cell_type": "code",
      "source": [
        "# def f():\n",
        "#   def g():\n",
        "#     print(\"Inside function g\")\n",
        "#     f()\n",
        "#   g()\n",
        "#   print(\"Inside function f\")\n",
        "\n",
        "# f()\n",
        "# This will lead to segmentation fault"
      ],
      "metadata": {
        "id": "67ETG0rLq8r-"
      },
      "execution_count": null,
      "outputs": []
    },
    {
      "cell_type": "code",
      "source": [
        "def g(x):\n",
        "  def h():\n",
        "    x = 'abc'\n",
        "  x = x + 1\n",
        "  print('In g(x): x = ',x)\n",
        "  h()\n",
        "  return x\n",
        "\n",
        "x = 3\n",
        "z = g(x)"
      ],
      "metadata": {
        "colab": {
          "base_uri": "https://localhost:8080/"
        },
        "id": "HNW91VRnqxTb",
        "outputId": "88a31e98-f78d-488e-9c93-449ab3833590"
      },
      "execution_count": null,
      "outputs": [
        {
          "output_type": "stream",
          "name": "stdout",
          "text": [
            "Ing g(x): x =  4\n"
          ]
        }
      ]
    },
    {
      "cell_type": "code",
      "source": [
        "def g(x):\n",
        "  def h(x):\n",
        "    x = x + 1\n",
        "    print(\"In h(x): x=\",x)\n",
        "  x = x + 1\n",
        "  print(\"In g(x): x=\",x)\n",
        "  h(x)\n",
        "  return x\n",
        "\n",
        "x = 3\n",
        "z = g(x)\n",
        "print(\"In main program scope: x = \",x)\n",
        "print(\"In main program scope: z = \",z)"
      ],
      "metadata": {
        "colab": {
          "base_uri": "https://localhost:8080/"
        },
        "id": "GyppHAorra2Z",
        "outputId": "423a7e9f-9a11-40bc-e023-3369cbde6ee4"
      },
      "execution_count": null,
      "outputs": [
        {
          "output_type": "stream",
          "name": "stdout",
          "text": [
            "In g(x): x= 4\n",
            "In h(x): x= 5\n",
            "In main program scope: x =  3\n",
            "In main program scope: z =  4\n"
          ]
        }
      ]
    },
    {
      "cell_type": "markdown",
      "source": [
        "# Functions in Python is a first-class citizen\n",
        "All the data types like list,tuple,set,dictionary are also first-class citizen as they can be add, delete, pass into function , return from function"
      ],
      "metadata": {
        "id": "FmDcv0KysXai"
      }
    },
    {
      "cell_type": "code",
      "source": [
        "def square(num):\n",
        "  return num**2\n",
        "\n",
        "type(square) # Function is a data type in Python"
      ],
      "metadata": {
        "colab": {
          "base_uri": "https://localhost:8080/"
        },
        "id": "e3XIgS00sAj4",
        "outputId": "0fef3352-eb78-4a84-bb40-a6944c2d2712"
      },
      "execution_count": null,
      "outputs": [
        {
          "output_type": "execute_result",
          "data": {
            "text/plain": [
              "function"
            ]
          },
          "metadata": {},
          "execution_count": 31
        }
      ]
    },
    {
      "cell_type": "code",
      "source": [
        "# Boom!...............Boom!...........\n",
        "x = square # Here we have made x same as to square basically, same function different names\n",
        "x\n",
        "x(3)"
      ],
      "metadata": {
        "colab": {
          "base_uri": "https://localhost:8080/"
        },
        "id": "T912zOKxsxKi",
        "outputId": "e071335b-b641-4019-c176-f202069bd9fe"
      },
      "execution_count": null,
      "outputs": [
        {
          "output_type": "execute_result",
          "data": {
            "text/plain": [
              "9"
            ]
          },
          "metadata": {},
          "execution_count": 32
        }
      ]
    },
    {
      "cell_type": "code",
      "source": [
        "# Deleting a function\n",
        "del square\n",
        "square(3)"
      ],
      "metadata": {
        "colab": {
          "base_uri": "https://localhost:8080/",
          "height": 210
        },
        "id": "uIkD9wnbtGa_",
        "outputId": "55637339-2cb4-48c7-f271-7434c22025c2"
      },
      "execution_count": null,
      "outputs": [
        {
          "output_type": "error",
          "ename": "NameError",
          "evalue": "name 'square' is not defined",
          "traceback": [
            "\u001b[0;31m---------------------------------------------------------------------------\u001b[0m",
            "\u001b[0;31mNameError\u001b[0m                                 Traceback (most recent call last)",
            "\u001b[0;32m<ipython-input-33-ea367e4e2eec>\u001b[0m in \u001b[0;36m<cell line: 3>\u001b[0;34m()\u001b[0m\n\u001b[1;32m      1\u001b[0m \u001b[0;31m# Deleting a function\u001b[0m\u001b[0;34m\u001b[0m\u001b[0;34m\u001b[0m\u001b[0m\n\u001b[1;32m      2\u001b[0m \u001b[0;32mdel\u001b[0m \u001b[0msquare\u001b[0m\u001b[0;34m\u001b[0m\u001b[0;34m\u001b[0m\u001b[0m\n\u001b[0;32m----> 3\u001b[0;31m \u001b[0msquare\u001b[0m\u001b[0;34m(\u001b[0m\u001b[0;36m3\u001b[0m\u001b[0;34m)\u001b[0m\u001b[0;34m\u001b[0m\u001b[0;34m\u001b[0m\u001b[0m\n\u001b[0m",
            "\u001b[0;31mNameError\u001b[0m: name 'square' is not defined"
          ]
        }
      ]
    },
    {
      "cell_type": "code",
      "source": [
        "# Storing\n",
        "def square(num):\n",
        "  return num**2\n",
        "\n",
        "L = [1,2,3,4,square]\n",
        "L"
      ],
      "metadata": {
        "colab": {
          "base_uri": "https://localhost:8080/"
        },
        "id": "lYq_J3DEtRhF",
        "outputId": "66b0d36f-83b1-40b0-b60c-337342c7fd24"
      },
      "execution_count": null,
      "outputs": [
        {
          "output_type": "execute_result",
          "data": {
            "text/plain": [
              "[1, 2, 3, 4, <function __main__.square(num)>]"
            ]
          },
          "metadata": {},
          "execution_count": 36
        }
      ]
    },
    {
      "cell_type": "code",
      "source": [
        "s = {1,2,square}\n",
        "# It runs means functions are immutable"
      ],
      "metadata": {
        "id": "_n7l2jIjtafp"
      },
      "execution_count": null,
      "outputs": []
    },
    {
      "cell_type": "code",
      "source": [
        "# Returning a function\n",
        "def x(a,b):\n",
        "    return a+b\n",
        "\n",
        "def f():\n",
        "  return x\n",
        "\n",
        "val = f()(3,4)\n",
        "print(val)"
      ],
      "metadata": {
        "colab": {
          "base_uri": "https://localhost:8080/"
        },
        "id": "gJ7Eq-zQtoV3",
        "outputId": "c8715da0-1eab-4637-f257-a95f00337055"
      },
      "execution_count": null,
      "outputs": [
        {
          "output_type": "stream",
          "name": "stdout",
          "text": [
            "7\n"
          ]
        }
      ]
    },
    {
      "cell_type": "code",
      "source": [
        "# function as argument\n",
        "def func_a():\n",
        "  print(\"Inside function a\")\n",
        "\n",
        "def func_b(z):\n",
        "  print(\"Inside function b\")\n",
        "  return z()\n",
        "\n",
        "print(func_b(func_a))"
      ],
      "metadata": {
        "colab": {
          "base_uri": "https://localhost:8080/"
        },
        "id": "9qV5i6hztvFD",
        "outputId": "28ca06fd-0f20-428e-9308-b46c3cface7c"
      },
      "execution_count": null,
      "outputs": [
        {
          "output_type": "stream",
          "name": "stdout",
          "text": [
            "Inside function b\n",
            "Inside function a\n",
            "None\n"
          ]
        }
      ]
    },
    {
      "cell_type": "markdown",
      "source": [
        "# Benefits of using a Function\n",
        "* Code Modularity\n",
        "* Code Readibility\n",
        "* Code Reusability"
      ],
      "metadata": {
        "id": "-uu_zPPjvAmq"
      }
    },
    {
      "cell_type": "markdown",
      "source": [
        "# Lambda Functions\n",
        "\n",
        "* Small Anonymous functions\n",
        "* Can take as many inputs\n",
        "* Give only single output"
      ],
      "metadata": {
        "id": "-nyTr6DyvJih"
      }
    },
    {
      "cell_type": "code",
      "source": [
        "a = lambda a,b: a+b\n",
        "a(3,4)"
      ],
      "metadata": {
        "colab": {
          "base_uri": "https://localhost:8080/"
        },
        "id": "f5pIlXqzuxlx",
        "outputId": "f5da5d0a-668b-4d0b-8b81-0a900b0955b0"
      },
      "execution_count": null,
      "outputs": [
        {
          "output_type": "execute_result",
          "data": {
            "text/plain": [
              "7"
            ]
          },
          "metadata": {},
          "execution_count": 43
        }
      ]
    },
    {
      "cell_type": "code",
      "source": [
        "a = lambda x: x**2\n",
        "a(5)"
      ],
      "metadata": {
        "colab": {
          "base_uri": "https://localhost:8080/"
        },
        "id": "XZzINpV_vh66",
        "outputId": "44334dcd-d893-4513-efd3-d3b11065144c"
      },
      "execution_count": null,
      "outputs": [
        {
          "output_type": "execute_result",
          "data": {
            "text/plain": [
              "25"
            ]
          },
          "metadata": {},
          "execution_count": 44
        }
      ]
    },
    {
      "cell_type": "markdown",
      "source": [
        "# Diff b/w Normal function vs Lambda Function\n",
        "\n",
        "* No name\n",
        "* lambda has no return value\n",
        "* lambda is written in 1 line\n",
        "* Not reusable"
      ],
      "metadata": {
        "id": "Y3mCVPsWvwt5"
      }
    },
    {
      "cell_type": "markdown",
      "source": [
        "# Then why Lambda functions?\n",
        "\n",
        "They are used with HOF (Higher Order Functions)"
      ],
      "metadata": {
        "id": "LIv9mfkUv_kl"
      }
    },
    {
      "cell_type": "code",
      "source": [
        "a = lambda s: 'a' in s\n",
        "print(a('Hello'))\n",
        "print(a('apple'))"
      ],
      "metadata": {
        "colab": {
          "base_uri": "https://localhost:8080/"
        },
        "id": "xxDKK5XfvvbT",
        "outputId": "4f7dac49-1692-4f49-bbf3-4bf2f1bf63f4"
      },
      "execution_count": null,
      "outputs": [
        {
          "output_type": "stream",
          "name": "stdout",
          "text": [
            "False\n",
            "True\n"
          ]
        }
      ]
    },
    {
      "cell_type": "code",
      "source": [
        "a = lambda num: num%2 == 0\n",
        "print(a(6))\n",
        "print(a(5))"
      ],
      "metadata": {
        "colab": {
          "base_uri": "https://localhost:8080/"
        },
        "id": "kEHD_bKowheb",
        "outputId": "cef054e6-ee34-4424-cb1b-9b4bb7e757f6"
      },
      "execution_count": null,
      "outputs": [
        {
          "output_type": "stream",
          "name": "stdout",
          "text": [
            "True\n",
            "False\n"
          ]
        }
      ]
    },
    {
      "cell_type": "markdown",
      "source": [
        "# Higher Order Functions\n",
        "\n",
        "Function which returns a function, or function which gets a function in parameter"
      ],
      "metadata": {
        "id": "cysa8PiXw2g7"
      }
    },
    {
      "cell_type": "code",
      "source": [
        "def square(x):\n",
        "  return x**2\n",
        "\n",
        "# HOF\n",
        "def transform(f,list):\n",
        "  output = []\n",
        "  for i in list:\n",
        "    output.append(f(i))\n",
        "  return output\n",
        "\n",
        "l = transform(square,[1,4,2,5])\n",
        "l"
      ],
      "metadata": {
        "colab": {
          "base_uri": "https://localhost:8080/"
        },
        "id": "l7foUAzHw0ZC",
        "outputId": "8ebbe829-5755-4dd1-fd6f-44b13ca92d00"
      },
      "execution_count": null,
      "outputs": [
        {
          "output_type": "execute_result",
          "data": {
            "text/plain": [
              "[1, 16, 4, 25]"
            ]
          },
          "metadata": {},
          "execution_count": 51
        }
      ]
    },
    {
      "cell_type": "code",
      "source": [
        "def transform(f,list):\n",
        "  output = []\n",
        "  for i in list:\n",
        "    output.append(f(i))\n",
        "  return output\n",
        "\n",
        "l = transform(lambda x: x**2,[1,4,2,5])\n",
        "l"
      ],
      "metadata": {
        "colab": {
          "base_uri": "https://localhost:8080/"
        },
        "id": "WblYBUP8xd4s",
        "outputId": "cc120aba-6638-4580-ea5e-00edcbc9dceb"
      },
      "execution_count": null,
      "outputs": [
        {
          "output_type": "execute_result",
          "data": {
            "text/plain": [
              "[1, 16, 4, 25]"
            ]
          },
          "metadata": {},
          "execution_count": 52
        }
      ]
    },
    {
      "cell_type": "markdown",
      "source": [
        "# Map\n",
        "(Lambda Function + Iterable list)"
      ],
      "metadata": {
        "id": "INFs_uxkx1DB"
      }
    },
    {
      "cell_type": "code",
      "source": [
        "list(map(lambda x: x**2,[1,2,4,5]))"
      ],
      "metadata": {
        "colab": {
          "base_uri": "https://localhost:8080/"
        },
        "id": "-A-m33CvxwJT",
        "outputId": "c36f7387-315a-4fe6-b942-e3752126630b"
      },
      "execution_count": null,
      "outputs": [
        {
          "output_type": "execute_result",
          "data": {
            "text/plain": [
              "[1, 4, 16, 25]"
            ]
          },
          "metadata": {},
          "execution_count": 54
        }
      ]
    },
    {
      "cell_type": "code",
      "source": [
        "list(map(lambda x: 'even' if x%2 == 0 else 'odd',[1,2,4,5]))"
      ],
      "metadata": {
        "colab": {
          "base_uri": "https://localhost:8080/"
        },
        "id": "YGHe3RAByA_8",
        "outputId": "9bfc9587-ad78-46dd-fd2e-853b56ffe332"
      },
      "execution_count": null,
      "outputs": [
        {
          "output_type": "execute_result",
          "data": {
            "text/plain": [
              "['odd', 'even', 'even', 'odd']"
            ]
          },
          "metadata": {},
          "execution_count": 56
        }
      ]
    },
    {
      "cell_type": "markdown",
      "source": [
        "# Filter"
      ],
      "metadata": {
        "id": "1X3BurxwyeI7"
      }
    },
    {
      "cell_type": "code",
      "source": [
        "L = [1,2,4,5,8,6,9]\n",
        "list(filter(lambda x: x>5,L))\n",
        "# It displays only those which have true"
      ],
      "metadata": {
        "colab": {
          "base_uri": "https://localhost:8080/"
        },
        "id": "pCMl52HOyG_4",
        "outputId": "e5017a05-09ce-4922-fb1c-07f35bf7efdf"
      },
      "execution_count": null,
      "outputs": [
        {
          "output_type": "execute_result",
          "data": {
            "text/plain": [
              "[8, 6, 9]"
            ]
          },
          "metadata": {},
          "execution_count": 57
        }
      ]
    },
    {
      "cell_type": "markdown",
      "source": [
        "# Reduce"
      ],
      "metadata": {
        "id": "Vt8NkjAZyyLP"
      }
    },
    {
      "cell_type": "code",
      "source": [
        "import functools"
      ],
      "metadata": {
        "id": "9r1btTR6ysQP"
      },
      "execution_count": null,
      "outputs": []
    },
    {
      "cell_type": "code",
      "source": [
        "functools.reduce(lambda x,y: x+y,[1,2,3,4,5])\n",
        "# It picks up 2 items and then adding which reduces the number of computations"
      ],
      "metadata": {
        "colab": {
          "base_uri": "https://localhost:8080/"
        },
        "id": "d0_KPkyAy3Ro",
        "outputId": "346c17a0-9029-4334-93e0-a0dd2459bfab"
      },
      "execution_count": null,
      "outputs": [
        {
          "output_type": "execute_result",
          "data": {
            "text/plain": [
              "15"
            ]
          },
          "metadata": {},
          "execution_count": 59
        }
      ]
    },
    {
      "cell_type": "code",
      "source": [
        "functools.reduce(lambda x,y: x if x<y else y, [23,11,45,10,1])"
      ],
      "metadata": {
        "colab": {
          "base_uri": "https://localhost:8080/"
        },
        "id": "T-gVC_vAy8tg",
        "outputId": "1425773b-f83e-458e-86d8-dbf0fc2179cd"
      },
      "execution_count": null,
      "outputs": [
        {
          "output_type": "execute_result",
          "data": {
            "text/plain": [
              "1"
            ]
          },
          "metadata": {},
          "execution_count": 60
        }
      ]
    },
    {
      "cell_type": "code",
      "source": [],
      "metadata": {
        "id": "QdQBTIxkzPHk"
      },
      "execution_count": null,
      "outputs": []
    }
  ]
}