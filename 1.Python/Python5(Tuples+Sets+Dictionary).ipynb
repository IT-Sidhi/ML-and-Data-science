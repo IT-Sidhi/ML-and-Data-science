{
  "nbformat": 4,
  "nbformat_minor": 0,
  "metadata": {
    "colab": {
      "provenance": []
    },
    "kernelspec": {
      "name": "python3",
      "display_name": "Python 3"
    },
    "language_info": {
      "name": "python"
    }
  },
  "cells": [
    {
      "cell_type": "markdown",
      "source": [
        "# Tuples\n",
        "\n",
        "It is similar to list. The difference is that it is immutable, no changes after\n",
        "assigning\n",
        "\n",
        "* Ordered\n",
        "* Unchangeble\n",
        "* Allows Duplicate"
      ],
      "metadata": {
        "id": "den42ImGoDg8"
      }
    },
    {
      "cell_type": "markdown",
      "source": [
        "# Creating Tuple"
      ],
      "metadata": {
        "id": "KSK70d3joYzF"
      }
    },
    {
      "cell_type": "code",
      "execution_count": null,
      "metadata": {
        "colab": {
          "base_uri": "https://localhost:8080/"
        },
        "id": "7RMnT2cfmjn4",
        "outputId": "66a984e0-2c17-4e4e-ac34-9978e00022bf"
      },
      "outputs": [
        {
          "output_type": "stream",
          "name": "stdout",
          "text": [
            "()\n"
          ]
        }
      ],
      "source": [
        "# Empty\n",
        "t1 = ()\n",
        "print(t1)"
      ]
    },
    {
      "cell_type": "code",
      "source": [
        "# Single item tuple\n",
        "t2 = (2)\n",
        "print(type(t2)) # --> It will us int\n",
        "\n",
        "t3 = (2,)\n",
        "print(t3)\n",
        "print(type(t3))"
      ],
      "metadata": {
        "colab": {
          "base_uri": "https://localhost:8080/"
        },
        "id": "gZLbx8WuohR2",
        "outputId": "caf07795-91a7-4dee-c0bb-6a4358973828"
      },
      "execution_count": null,
      "outputs": [
        {
          "output_type": "stream",
          "name": "stdout",
          "text": [
            "<class 'int'>\n",
            "(2,)\n",
            "<class 'tuple'>\n"
          ]
        }
      ]
    },
    {
      "cell_type": "code",
      "source": [
        "# Homogeneous Tuple\n",
        "t = (1,2,3,4)\n",
        "print(t)\n",
        "\n",
        "# Heterogeneous Tuple\n",
        "t1 = (1,5.3,'Sidhi',True)\n",
        "print(t1)"
      ],
      "metadata": {
        "colab": {
          "base_uri": "https://localhost:8080/"
        },
        "id": "gXbXDsvaosqu",
        "outputId": "1ff5ed07-43d8-40cf-f2bd-736a3b3c61ad"
      },
      "execution_count": null,
      "outputs": [
        {
          "output_type": "stream",
          "name": "stdout",
          "text": [
            "(1, 2, 3, 4)\n",
            "(1, 5.3, 'Sidhi', True)\n"
          ]
        }
      ]
    },
    {
      "cell_type": "code",
      "source": [
        "# 2D\n",
        "t = (1,2,3,(4,5))\n",
        "print(t)"
      ],
      "metadata": {
        "colab": {
          "base_uri": "https://localhost:8080/"
        },
        "id": "dTT3pO5Vo8rB",
        "outputId": "0994ef12-762f-4d39-860b-341039784107"
      },
      "execution_count": null,
      "outputs": [
        {
          "output_type": "stream",
          "name": "stdout",
          "text": [
            "(1, 2, 3, (4, 5))\n"
          ]
        }
      ]
    },
    {
      "cell_type": "code",
      "source": [
        "# Using type Conversion\n",
        "print(tuple(\"Hello\"))"
      ],
      "metadata": {
        "colab": {
          "base_uri": "https://localhost:8080/"
        },
        "id": "HsgGmHIbpAZ7",
        "outputId": "aca53e27-6e21-4fd0-e355-5b4d69625f59"
      },
      "execution_count": null,
      "outputs": [
        {
          "output_type": "stream",
          "name": "stdout",
          "text": [
            "('H', 'e', 'l', 'l', 'o')\n"
          ]
        }
      ]
    },
    {
      "cell_type": "markdown",
      "source": [
        "# Accessing Items\n",
        "\n",
        "* Indexing\n",
        "* Slicing"
      ],
      "metadata": {
        "id": "AdNPmvnRpLre"
      }
    },
    {
      "cell_type": "code",
      "source": [
        "t = (1,2,3,(4,5))\n",
        "print(t[0])\n",
        "print(t[-1])"
      ],
      "metadata": {
        "colab": {
          "base_uri": "https://localhost:8080/"
        },
        "id": "qhJw8OK4pG01",
        "outputId": "69639d00-c45f-4d3d-8437-35743f399450"
      },
      "execution_count": null,
      "outputs": [
        {
          "output_type": "stream",
          "name": "stdout",
          "text": [
            "1\n",
            "(4, 5)\n"
          ]
        }
      ]
    },
    {
      "cell_type": "code",
      "source": [
        "print(t[0:4:2])\n",
        "print(t[::-1])"
      ],
      "metadata": {
        "colab": {
          "base_uri": "https://localhost:8080/"
        },
        "id": "Zgeowm0MpPdQ",
        "outputId": "91c813f4-d59e-4067-e22d-e6df21936f98"
      },
      "execution_count": null,
      "outputs": [
        {
          "output_type": "stream",
          "name": "stdout",
          "text": [
            "(1, 3)\n",
            "((4, 5), 3, 2, 1)\n"
          ]
        }
      ]
    },
    {
      "cell_type": "code",
      "source": [
        "t[-1][0]"
      ],
      "metadata": {
        "colab": {
          "base_uri": "https://localhost:8080/"
        },
        "id": "RwwkaYrHpdgI",
        "outputId": "0fb956ac-a33f-4191-885a-117055828ca5"
      },
      "execution_count": null,
      "outputs": [
        {
          "output_type": "execute_result",
          "data": {
            "text/plain": [
              "4"
            ]
          },
          "metadata": {},
          "execution_count": 12
        }
      ]
    },
    {
      "cell_type": "markdown",
      "source": [
        "# Editing Items"
      ],
      "metadata": {
        "id": "r8oY6Tabppow"
      }
    },
    {
      "cell_type": "code",
      "source": [
        "t"
      ],
      "metadata": {
        "colab": {
          "base_uri": "https://localhost:8080/"
        },
        "id": "p4f1wXJspkId",
        "outputId": "f68b1d88-e65d-4f62-cbc9-f8c3e570376e"
      },
      "execution_count": null,
      "outputs": [
        {
          "output_type": "execute_result",
          "data": {
            "text/plain": [
              "(1, 2, 3, (4, 5))"
            ]
          },
          "metadata": {},
          "execution_count": 13
        }
      ]
    },
    {
      "cell_type": "code",
      "source": [
        "t[0] = 8\n",
        "# This will error as it is immutable"
      ],
      "metadata": {
        "colab": {
          "base_uri": "https://localhost:8080/",
          "height": 193
        },
        "id": "B2zM9srVprvJ",
        "outputId": "c39f7c3a-e6a7-4839-ea56-a5e1e1dbd5c8"
      },
      "execution_count": null,
      "outputs": [
        {
          "output_type": "error",
          "ename": "TypeError",
          "evalue": "'tuple' object does not support item assignment",
          "traceback": [
            "\u001b[0;31m---------------------------------------------------------------------------\u001b[0m",
            "\u001b[0;31mTypeError\u001b[0m                                 Traceback (most recent call last)",
            "\u001b[0;32m<ipython-input-14-78ece6f36fc5>\u001b[0m in \u001b[0;36m<cell line: 1>\u001b[0;34m()\u001b[0m\n\u001b[0;32m----> 1\u001b[0;31m \u001b[0mt\u001b[0m\u001b[0;34m[\u001b[0m\u001b[0;36m0\u001b[0m\u001b[0;34m]\u001b[0m \u001b[0;34m=\u001b[0m \u001b[0;36m8\u001b[0m\u001b[0;34m\u001b[0m\u001b[0;34m\u001b[0m\u001b[0m\n\u001b[0m\u001b[1;32m      2\u001b[0m \u001b[0;31m# This will error as it is immutable\u001b[0m\u001b[0;34m\u001b[0m\u001b[0;34m\u001b[0m\u001b[0m\n",
            "\u001b[0;31mTypeError\u001b[0m: 'tuple' object does not support item assignment"
          ]
        }
      ]
    },
    {
      "cell_type": "markdown",
      "source": [
        "# Adding Items"
      ],
      "metadata": {
        "id": "lcJN9Dh-pziO"
      }
    },
    {
      "cell_type": "code",
      "source": [
        "# Not Possible because it is immutable"
      ],
      "metadata": {
        "id": "puDQrmXSpx4V"
      },
      "execution_count": null,
      "outputs": []
    },
    {
      "cell_type": "markdown",
      "source": [
        "# Deleting Items"
      ],
      "metadata": {
        "id": "DXxt7muzp6mO"
      }
    },
    {
      "cell_type": "code",
      "source": [
        "# Only Can delete tuple as a whole\n",
        "t3 = (1,2,5,9)\n",
        "del t3\n",
        "print(t3)"
      ],
      "metadata": {
        "colab": {
          "base_uri": "https://localhost:8080/",
          "height": 210
        },
        "id": "a_e-M5uFp5lG",
        "outputId": "b74af6f7-d54e-4996-b540-29760e682cfe"
      },
      "execution_count": null,
      "outputs": [
        {
          "output_type": "error",
          "ename": "NameError",
          "evalue": "name 't3' is not defined",
          "traceback": [
            "\u001b[0;31m---------------------------------------------------------------------------\u001b[0m",
            "\u001b[0;31mNameError\u001b[0m                                 Traceback (most recent call last)",
            "\u001b[0;32m<ipython-input-16-89d67045a7f6>\u001b[0m in \u001b[0;36m<cell line: 4>\u001b[0;34m()\u001b[0m\n\u001b[1;32m      2\u001b[0m \u001b[0mt3\u001b[0m \u001b[0;34m=\u001b[0m \u001b[0;34m(\u001b[0m\u001b[0;36m1\u001b[0m\u001b[0;34m,\u001b[0m\u001b[0;36m2\u001b[0m\u001b[0;34m,\u001b[0m\u001b[0;36m5\u001b[0m\u001b[0;34m,\u001b[0m\u001b[0;36m9\u001b[0m\u001b[0;34m)\u001b[0m\u001b[0;34m\u001b[0m\u001b[0;34m\u001b[0m\u001b[0m\n\u001b[1;32m      3\u001b[0m \u001b[0;32mdel\u001b[0m \u001b[0mt3\u001b[0m\u001b[0;34m\u001b[0m\u001b[0;34m\u001b[0m\u001b[0m\n\u001b[0;32m----> 4\u001b[0;31m \u001b[0mprint\u001b[0m\u001b[0;34m(\u001b[0m\u001b[0mt3\u001b[0m\u001b[0;34m)\u001b[0m\u001b[0;34m\u001b[0m\u001b[0;34m\u001b[0m\u001b[0m\n\u001b[0m",
            "\u001b[0;31mNameError\u001b[0m: name 't3' is not defined"
          ]
        }
      ]
    },
    {
      "cell_type": "markdown",
      "source": [
        "# Operations on Tuple\n",
        "\n",
        "* Arithmetic\n",
        "* Membership\n",
        "* Iteration"
      ],
      "metadata": {
        "id": "zWe42aIzqGbh"
      }
    },
    {
      "cell_type": "code",
      "source": [
        "t1 = (4,5,8,6)\n",
        "t2 = (4,2,5,9)\n",
        "\n",
        "print(t1+t2)"
      ],
      "metadata": {
        "colab": {
          "base_uri": "https://localhost:8080/"
        },
        "id": "JCIe5mlEqB7v",
        "outputId": "6d414b0f-92c7-4578-cf9a-8f319a188a53"
      },
      "execution_count": null,
      "outputs": [
        {
          "output_type": "stream",
          "name": "stdout",
          "text": [
            "(4, 5, 8, 6, 4, 2, 5, 9)\n"
          ]
        }
      ]
    },
    {
      "cell_type": "code",
      "source": [
        "print(t1 * 3)"
      ],
      "metadata": {
        "colab": {
          "base_uri": "https://localhost:8080/"
        },
        "id": "jH-MbEYOqira",
        "outputId": "b1cf48c1-34d4-40a8-cd38-d7f90fcc7b8d"
      },
      "execution_count": null,
      "outputs": [
        {
          "output_type": "stream",
          "name": "stdout",
          "text": [
            "(4, 5, 8, 6, 4, 5, 8, 6, 4, 5, 8, 6)\n"
          ]
        }
      ]
    },
    {
      "cell_type": "code",
      "source": [
        "1 in t1"
      ],
      "metadata": {
        "colab": {
          "base_uri": "https://localhost:8080/"
        },
        "id": "yzkW6t72qlog",
        "outputId": "ee84d9cf-094b-4ce0-c725-8266d9d85b65"
      },
      "execution_count": null,
      "outputs": [
        {
          "output_type": "execute_result",
          "data": {
            "text/plain": [
              "False"
            ]
          },
          "metadata": {},
          "execution_count": 19
        }
      ]
    },
    {
      "cell_type": "code",
      "source": [
        "1 not in t1"
      ],
      "metadata": {
        "colab": {
          "base_uri": "https://localhost:8080/"
        },
        "id": "6BZtbLm0qnhg",
        "outputId": "37ea1d80-0afe-4d83-f2ec-0f4f5c4ee684"
      },
      "execution_count": null,
      "outputs": [
        {
          "output_type": "execute_result",
          "data": {
            "text/plain": [
              "True"
            ]
          },
          "metadata": {},
          "execution_count": 20
        }
      ]
    },
    {
      "cell_type": "code",
      "source": [
        "for i in t1:\n",
        "  print(i)"
      ],
      "metadata": {
        "colab": {
          "base_uri": "https://localhost:8080/"
        },
        "id": "din_RYmyqpNC",
        "outputId": "d72ba04b-9ea0-44a0-a500-c276c013157b"
      },
      "execution_count": null,
      "outputs": [
        {
          "output_type": "stream",
          "name": "stdout",
          "text": [
            "4\n",
            "5\n",
            "8\n",
            "6\n"
          ]
        }
      ]
    },
    {
      "cell_type": "markdown",
      "source": [
        "# Tuple Functions"
      ],
      "metadata": {
        "id": "KkqRZvERqsgX"
      }
    },
    {
      "cell_type": "code",
      "source": [
        "# len/min/max/sorted\n",
        "t = (1,5,6,3,4)\n",
        "print(len(t))\n",
        "print(min(t))\n",
        "print(max(t))\n",
        "print(sorted(t,reverse = True))\n",
        "print(sum(t))"
      ],
      "metadata": {
        "colab": {
          "base_uri": "https://localhost:8080/"
        },
        "id": "ZwzKLzT-qrU3",
        "outputId": "7e3de492-c460-4e15-f224-21d41a487929"
      },
      "execution_count": null,
      "outputs": [
        {
          "output_type": "stream",
          "name": "stdout",
          "text": [
            "5\n",
            "1\n",
            "6\n",
            "[6, 5, 4, 3, 1]\n",
            "19\n"
          ]
        }
      ]
    },
    {
      "cell_type": "code",
      "source": [
        "# Count\n",
        "print(t.count(4))\n",
        "print(t.count(10)) # Returns 0 if not present"
      ],
      "metadata": {
        "colab": {
          "base_uri": "https://localhost:8080/"
        },
        "id": "sUgA-8fGq3ZL",
        "outputId": "f7496174-3e55-4cc1-9d2f-d91418afbc0a"
      },
      "execution_count": null,
      "outputs": [
        {
          "output_type": "stream",
          "name": "stdout",
          "text": [
            "1\n",
            "0\n"
          ]
        }
      ]
    },
    {
      "cell_type": "code",
      "source": [
        "# Index\n",
        "print(t.index(5))\n",
        "# print(t.index(50)) shows error as it is not present in the tuple"
      ],
      "metadata": {
        "colab": {
          "base_uri": "https://localhost:8080/"
        },
        "id": "swGSuUk5rPYV",
        "outputId": "4fd03c20-1d51-4d55-bffe-3cae58f0ff3c"
      },
      "execution_count": null,
      "outputs": [
        {
          "output_type": "stream",
          "name": "stdout",
          "text": [
            "1\n"
          ]
        }
      ]
    },
    {
      "cell_type": "markdown",
      "source": [
        "Difference b/w Lists and Tuples\n",
        "* Syntax\n",
        "* Mutability\n",
        "* Speed (Tuple faster than List)\n",
        "* Memory (Tuple less stores than List)\n",
        "* Error Prone (Tuple less Prone to error)\n",
        "* Usability (Lists are more usable when changes required, and tuples where changes are not accessible by everyone)\n",
        "* Built in functionality (List)"
      ],
      "metadata": {
        "id": "Oe7uxYLArbWp"
      }
    },
    {
      "cell_type": "markdown",
      "source": [
        "# Special Syntax"
      ],
      "metadata": {
        "id": "7MJHijlospD7"
      }
    },
    {
      "cell_type": "code",
      "source": [
        "# tuple Unpacking\n",
        "a,b,c = (1,2,3)\n",
        "print(a,b,c)"
      ],
      "metadata": {
        "colab": {
          "base_uri": "https://localhost:8080/"
        },
        "id": "lS-IcCpfrZmA",
        "outputId": "3a0a581d-f5c1-480b-a8bb-fc429857add0"
      },
      "execution_count": null,
      "outputs": [
        {
          "output_type": "stream",
          "name": "stdout",
          "text": [
            "1 2 3\n"
          ]
        }
      ]
    },
    {
      "cell_type": "code",
      "source": [
        "a,b = (1,2,3) # it has to same number on both sides\n",
        "print(a,b)"
      ],
      "metadata": {
        "colab": {
          "base_uri": "https://localhost:8080/",
          "height": 193
        },
        "id": "GFq89tErsv7o",
        "outputId": "da243142-49ad-4a1d-edb8-69b088e01a66"
      },
      "execution_count": null,
      "outputs": [
        {
          "output_type": "error",
          "ename": "ValueError",
          "evalue": "too many values to unpack (expected 2)",
          "traceback": [
            "\u001b[0;31m---------------------------------------------------------------------------\u001b[0m",
            "\u001b[0;31mValueError\u001b[0m                                Traceback (most recent call last)",
            "\u001b[0;32m<ipython-input-31-22f327f11d4b>\u001b[0m in \u001b[0;36m<cell line: 1>\u001b[0;34m()\u001b[0m\n\u001b[0;32m----> 1\u001b[0;31m \u001b[0ma\u001b[0m\u001b[0;34m,\u001b[0m\u001b[0mb\u001b[0m \u001b[0;34m=\u001b[0m \u001b[0;34m(\u001b[0m\u001b[0;36m1\u001b[0m\u001b[0;34m,\u001b[0m\u001b[0;36m2\u001b[0m\u001b[0;34m,\u001b[0m\u001b[0;36m3\u001b[0m\u001b[0;34m)\u001b[0m\u001b[0;34m\u001b[0m\u001b[0;34m\u001b[0m\u001b[0m\n\u001b[0m\u001b[1;32m      2\u001b[0m \u001b[0mprint\u001b[0m\u001b[0;34m(\u001b[0m\u001b[0ma\u001b[0m\u001b[0;34m,\u001b[0m\u001b[0mb\u001b[0m\u001b[0;34m)\u001b[0m\u001b[0;34m\u001b[0m\u001b[0;34m\u001b[0m\u001b[0m\n",
            "\u001b[0;31mValueError\u001b[0m: too many values to unpack (expected 2)"
          ]
        }
      ]
    },
    {
      "cell_type": "code",
      "source": [
        "a = 1\n",
        "b = 2\n",
        "a,b = b,a\n",
        "print(a,b) # Swapping values"
      ],
      "metadata": {
        "colab": {
          "base_uri": "https://localhost:8080/"
        },
        "id": "b4OemUGOs1Gd",
        "outputId": "be81fd85-83f0-4765-e370-df0c873c8592"
      },
      "execution_count": null,
      "outputs": [
        {
          "output_type": "stream",
          "name": "stdout",
          "text": [
            "2 1\n"
          ]
        }
      ]
    },
    {
      "cell_type": "code",
      "source": [
        "a,b,*others = (1,2,3,4)\n",
        "print(a,b)\n",
        "print(others)"
      ],
      "metadata": {
        "colab": {
          "base_uri": "https://localhost:8080/"
        },
        "id": "4JCLP2wStAFy",
        "outputId": "3c771f56-0be6-4626-ab0c-a1e801c8ee56"
      },
      "execution_count": null,
      "outputs": [
        {
          "output_type": "stream",
          "name": "stdout",
          "text": [
            "1 2\n",
            "[3, 4]\n"
          ]
        }
      ]
    },
    {
      "cell_type": "markdown",
      "source": [
        "# Zip"
      ],
      "metadata": {
        "id": "7t3sggDOtLK1"
      }
    },
    {
      "cell_type": "code",
      "source": [
        "a = (1,2,3,4)\n",
        "b = (4,5,8,6)\n",
        "\n",
        "tuple(zip(a,b))"
      ],
      "metadata": {
        "colab": {
          "base_uri": "https://localhost:8080/"
        },
        "id": "t4GypFgutJAu",
        "outputId": "3508cca1-48eb-4442-89e6-e8cf5b1b3ce3"
      },
      "execution_count": null,
      "outputs": [
        {
          "output_type": "execute_result",
          "data": {
            "text/plain": [
              "((1, 4), (2, 5), (3, 8), (4, 6))"
            ]
          },
          "metadata": {},
          "execution_count": 34
        }
      ]
    },
    {
      "cell_type": "markdown",
      "source": [
        "# Tuple Comprehension"
      ],
      "metadata": {
        "id": "aa-zeJmctcCD"
      }
    },
    {
      "cell_type": "code",
      "source": [
        "t = (i for i in range(10))\n",
        "tuple(t)"
      ],
      "metadata": {
        "colab": {
          "base_uri": "https://localhost:8080/"
        },
        "id": "jTPYChMjtP3L",
        "outputId": "eb9bfcdf-f487-4048-cf0b-103e65365cba"
      },
      "execution_count": null,
      "outputs": [
        {
          "output_type": "execute_result",
          "data": {
            "text/plain": [
              "(0, 1, 2, 3, 4, 5, 6, 7, 8, 9)"
            ]
          },
          "metadata": {},
          "execution_count": 39
        }
      ]
    },
    {
      "cell_type": "markdown",
      "source": [
        "# Sets\n",
        "\n",
        "It is unordered collection of data items. Every set has unique elements. It is mutable.\n",
        "\n",
        "* Unordered\n",
        "* Mutable\n",
        "* Unique\n",
        "* Can't contain mutable data types"
      ],
      "metadata": {
        "id": "f6zIVGr3tu4W"
      }
    },
    {
      "cell_type": "markdown",
      "source": [
        "# Creating Sets"
      ],
      "metadata": {
        "id": "qOcaqMBUuECP"
      }
    },
    {
      "cell_type": "code",
      "source": [
        "# Empty\n",
        "s = {} # --> Default Dictionary\n",
        "s1 = set()\n",
        "print(s1)\n",
        "print(type(s1))"
      ],
      "metadata": {
        "colab": {
          "base_uri": "https://localhost:8080/"
        },
        "id": "e8btaXNQtkhV",
        "outputId": "c143803c-ed28-4891-856a-cdfacc3f1952"
      },
      "execution_count": null,
      "outputs": [
        {
          "output_type": "stream",
          "name": "stdout",
          "text": [
            "set()\n",
            "<class 'set'>\n"
          ]
        }
      ]
    },
    {
      "cell_type": "code",
      "source": [
        "# 1D\n",
        "s1 = {1,2,3}\n",
        "print(s1)\n",
        "\n",
        "s2 = {1,2.5,True} # True -> 1 so no duplicates\n",
        "print(s2)"
      ],
      "metadata": {
        "colab": {
          "base_uri": "https://localhost:8080/"
        },
        "id": "6r-9XjPEuPzI",
        "outputId": "fa297e03-8540-4e2a-bbcb-67dbf2b225e0"
      },
      "execution_count": null,
      "outputs": [
        {
          "output_type": "stream",
          "name": "stdout",
          "text": [
            "{1, 2, 3}\n",
            "{1, 2.5}\n"
          ]
        }
      ]
    },
    {
      "cell_type": "code",
      "source": [
        "# 2D (Not Possible as set can't contain mutable data types)\n",
        "\n",
        "# type Conversion\n",
        "set([1,2,4])"
      ],
      "metadata": {
        "colab": {
          "base_uri": "https://localhost:8080/"
        },
        "id": "CRoj3fjBudrR",
        "outputId": "cf93904f-b6b3-43f0-8267-372e2a2d97f8"
      },
      "execution_count": null,
      "outputs": [
        {
          "output_type": "execute_result",
          "data": {
            "text/plain": [
              "{1, 2, 4}"
            ]
          },
          "metadata": {},
          "execution_count": 46
        }
      ]
    },
    {
      "cell_type": "markdown",
      "source": [
        "# Accessing Items"
      ],
      "metadata": {
        "id": "mWU4v-sou_hy"
      }
    },
    {
      "cell_type": "code",
      "source": [
        "s1 = {1,2,4,3}\n",
        "# Does not work as it is unordered"
      ],
      "metadata": {
        "id": "UplchsFOu6Bs"
      },
      "execution_count": null,
      "outputs": []
    },
    {
      "cell_type": "markdown",
      "source": [
        "# Editing Items"
      ],
      "metadata": {
        "id": "7tpsGVIOvXZI"
      }
    },
    {
      "cell_type": "code",
      "source": [
        "# Not Allowed as we can't access"
      ],
      "metadata": {
        "id": "bLl3UvWAvWV0"
      },
      "execution_count": null,
      "outputs": []
    },
    {
      "cell_type": "markdown",
      "source": [
        "# Adding Items"
      ],
      "metadata": {
        "id": "Zn9jtbBRvb7a"
      }
    },
    {
      "cell_type": "code",
      "source": [
        "s = {1,2,4,5}\n",
        "print(s)\n",
        "s.add(8) # single element\n",
        "print(s)"
      ],
      "metadata": {
        "colab": {
          "base_uri": "https://localhost:8080/"
        },
        "id": "vbQe3zI4vbPr",
        "outputId": "48f8320d-7a72-4251-9b25-998b0cf8df02"
      },
      "execution_count": null,
      "outputs": [
        {
          "output_type": "stream",
          "name": "stdout",
          "text": [
            "{1, 2, 4, 5}\n",
            "{1, 2, 4, 5, 8}\n"
          ]
        }
      ]
    },
    {
      "cell_type": "code",
      "source": [
        "s = {1,2,4,5}\n",
        "print(s)\n",
        "s.update([8,3,6]) # Multiple items within a list\n",
        "print(s)"
      ],
      "metadata": {
        "colab": {
          "base_uri": "https://localhost:8080/"
        },
        "id": "D9qcSbpRvf1o",
        "outputId": "205c2f6f-a547-4b4f-8347-e181f6f74902"
      },
      "execution_count": null,
      "outputs": [
        {
          "output_type": "stream",
          "name": "stdout",
          "text": [
            "{1, 2, 4, 5}\n",
            "{1, 2, 3, 4, 5, 6, 8}\n"
          ]
        }
      ]
    },
    {
      "cell_type": "markdown",
      "source": [
        "# Deleting Items"
      ],
      "metadata": {
        "id": "sa3GY1U8vyoV"
      }
    },
    {
      "cell_type": "code",
      "source": [
        "# del\n",
        "s = {1,2,4,5}\n",
        "del s"
      ],
      "metadata": {
        "id": "bp106RPSvqzN"
      },
      "execution_count": null,
      "outputs": []
    },
    {
      "cell_type": "code",
      "source": [
        "# discard\n",
        "s = {1,4,2,9}\n",
        "s.discard(4)\n",
        "print(s)\n",
        "s.discard(5)  # not throw an error\n",
        "print(s)"
      ],
      "metadata": {
        "colab": {
          "base_uri": "https://localhost:8080/"
        },
        "id": "FANnXHBwv4Ha",
        "outputId": "0e06ef6a-7b6c-404e-ad7d-347bacb37366"
      },
      "execution_count": null,
      "outputs": [
        {
          "output_type": "stream",
          "name": "stdout",
          "text": [
            "{1, 2, 9}\n"
          ]
        }
      ]
    },
    {
      "cell_type": "code",
      "source": [
        "# remove\n",
        "s = {1,4,2,9}\n",
        "s.discard(4)\n",
        "print(s)\n",
        "s.remove(5) # Throw an error\n",
        "print(s)"
      ],
      "metadata": {
        "colab": {
          "base_uri": "https://localhost:8080/",
          "height": 245
        },
        "id": "QctMHqsBwAXT",
        "outputId": "ca5465da-4fe4-4de5-e1d9-8d745ae850f1"
      },
      "execution_count": null,
      "outputs": [
        {
          "output_type": "stream",
          "name": "stdout",
          "text": [
            "{1, 2, 9}\n"
          ]
        },
        {
          "output_type": "error",
          "ename": "KeyError",
          "evalue": "5",
          "traceback": [
            "\u001b[0;31m---------------------------------------------------------------------------\u001b[0m",
            "\u001b[0;31mKeyError\u001b[0m                                  Traceback (most recent call last)",
            "\u001b[0;32m<ipython-input-54-8c97cd9e9954>\u001b[0m in \u001b[0;36m<cell line: 5>\u001b[0;34m()\u001b[0m\n\u001b[1;32m      3\u001b[0m \u001b[0ms\u001b[0m\u001b[0;34m.\u001b[0m\u001b[0mdiscard\u001b[0m\u001b[0;34m(\u001b[0m\u001b[0;36m4\u001b[0m\u001b[0;34m)\u001b[0m\u001b[0;34m\u001b[0m\u001b[0;34m\u001b[0m\u001b[0m\n\u001b[1;32m      4\u001b[0m \u001b[0mprint\u001b[0m\u001b[0;34m(\u001b[0m\u001b[0ms\u001b[0m\u001b[0;34m)\u001b[0m\u001b[0;34m\u001b[0m\u001b[0;34m\u001b[0m\u001b[0m\n\u001b[0;32m----> 5\u001b[0;31m \u001b[0ms\u001b[0m\u001b[0;34m.\u001b[0m\u001b[0mremove\u001b[0m\u001b[0;34m(\u001b[0m\u001b[0;36m5\u001b[0m\u001b[0;34m)\u001b[0m \u001b[0;31m# Throw an error\u001b[0m\u001b[0;34m\u001b[0m\u001b[0;34m\u001b[0m\u001b[0m\n\u001b[0m\u001b[1;32m      6\u001b[0m \u001b[0mprint\u001b[0m\u001b[0;34m(\u001b[0m\u001b[0ms\u001b[0m\u001b[0;34m)\u001b[0m\u001b[0;34m\u001b[0m\u001b[0;34m\u001b[0m\u001b[0m\n",
            "\u001b[0;31mKeyError\u001b[0m: 5"
          ]
        }
      ]
    },
    {
      "cell_type": "code",
      "source": [
        "# Pop (Pops out any element)\n",
        "s = {1,4,2,5}\n",
        "s.pop()\n",
        "print(s)"
      ],
      "metadata": {
        "colab": {
          "base_uri": "https://localhost:8080/"
        },
        "id": "1yFSshZGwM_q",
        "outputId": "971a94fc-2320-42c5-bad6-d0ee23947b94"
      },
      "execution_count": null,
      "outputs": [
        {
          "output_type": "stream",
          "name": "stdout",
          "text": [
            "{2, 4, 5}\n"
          ]
        }
      ]
    },
    {
      "cell_type": "code",
      "source": [
        "# Clear\n",
        "s = {4,5,8,2}\n",
        "s.clear()\n",
        "print(s)"
      ],
      "metadata": {
        "colab": {
          "base_uri": "https://localhost:8080/"
        },
        "id": "R5WIkLRcwVyZ",
        "outputId": "64ac2ca5-a4cd-4839-9271-af62baf15ee9"
      },
      "execution_count": null,
      "outputs": [
        {
          "output_type": "stream",
          "name": "stdout",
          "text": [
            "set()\n"
          ]
        }
      ]
    },
    {
      "cell_type": "markdown",
      "source": [
        "# Set Operations"
      ],
      "metadata": {
        "id": "ZLfhX6sswtMF"
      }
    },
    {
      "cell_type": "code",
      "source": [
        "# Union/Intersection/Difference/Symmetric Difference\n",
        "\n",
        "s1 = {4,7,5,8,6}\n",
        "s2 = {1,4,2,5,3,9}\n",
        "\n",
        "print(s1.intersection(s2))\n",
        "print(s1.union(s2))\n",
        "print(s1.difference(s2))\n",
        "print(s1.symmetric_difference(s2))\n",
        "\n",
        "print(1 in s1)\n",
        "print(1 not in s1)\n",
        "\n",
        "for i in s1:\n",
        "  print(i)"
      ],
      "metadata": {
        "colab": {
          "base_uri": "https://localhost:8080/"
        },
        "id": "ODPjWdZ0wad-",
        "outputId": "2ddb64f6-4a44-4c55-a35c-b22fe0febfab"
      },
      "execution_count": null,
      "outputs": [
        {
          "output_type": "stream",
          "name": "stdout",
          "text": [
            "{4, 5}\n",
            "{1, 2, 3, 4, 5, 6, 7, 8, 9}\n",
            "{8, 6, 7}\n",
            "{1, 2, 3, 6, 7, 8, 9}\n",
            "False\n",
            "True\n",
            "4\n",
            "5\n",
            "6\n",
            "7\n",
            "8\n"
          ]
        }
      ]
    },
    {
      "cell_type": "markdown",
      "source": [
        "# Sets Functions"
      ],
      "metadata": {
        "id": "_IzW3d13xTvS"
      }
    },
    {
      "cell_type": "code",
      "source": [
        "# len/sum/max/min/sorted\n",
        "s1 = {4,7,5,8,6}\n",
        "print(len(s1))\n",
        "print(min(s1))\n",
        "print(max(s1))\n",
        "print(sum(s1))\n",
        "print(sorted(s1,reverse = True))"
      ],
      "metadata": {
        "colab": {
          "base_uri": "https://localhost:8080/"
        },
        "id": "CxeXllLAxE9r",
        "outputId": "73314bd2-b252-4582-c6af-38e9bd1c32cb"
      },
      "execution_count": null,
      "outputs": [
        {
          "output_type": "stream",
          "name": "stdout",
          "text": [
            "5\n",
            "4\n",
            "8\n",
            "30\n",
            "[8, 7, 6, 5, 4]\n"
          ]
        }
      ]
    },
    {
      "cell_type": "code",
      "source": [
        "# union/update\n",
        "# Union has temporary while update has permanent change\n",
        "\n",
        "s1.update(s2)\n",
        "print(s1)\n",
        "print(s2)"
      ],
      "metadata": {
        "colab": {
          "base_uri": "https://localhost:8080/"
        },
        "id": "nuCt9CorxgHU",
        "outputId": "5f1ca59c-55f6-4f18-991f-fdefe5b55e8e"
      },
      "execution_count": null,
      "outputs": [
        {
          "output_type": "stream",
          "name": "stdout",
          "text": [
            "{1, 2, 3, 4, 5, 6, 7, 8, 9}\n",
            "{1, 2, 3, 4, 5, 9}\n"
          ]
        }
      ]
    },
    {
      "cell_type": "code",
      "source": [
        "# Intersection_update --> It changes the original one\n",
        "# Difference/-update --> It changes the original one"
      ],
      "metadata": {
        "id": "pfc2Bej_x19N"
      },
      "execution_count": null,
      "outputs": []
    },
    {
      "cell_type": "code",
      "source": [
        "# isdisjoint/issubset/issuperset\n",
        "s1 = {4,5,8,9}\n",
        "s2 = {1,2,5,6}\n",
        "\n",
        "print(s1.isdisjoint(s2))\n",
        "print(s2.issubset(s1))\n",
        "print(s1.issuperset(s2))"
      ],
      "metadata": {
        "colab": {
          "base_uri": "https://localhost:8080/"
        },
        "id": "DirWhOQbyKHh",
        "outputId": "f1376e43-0bbe-41c1-fd15-afba9f5da9b7"
      },
      "execution_count": null,
      "outputs": [
        {
          "output_type": "stream",
          "name": "stdout",
          "text": [
            "False\n",
            "False\n",
            "False\n"
          ]
        }
      ]
    },
    {
      "cell_type": "markdown",
      "source": [
        "# Copy\n"
      ],
      "metadata": {
        "id": "XYr6URpaynA3"
      }
    },
    {
      "cell_type": "code",
      "source": [
        "s1 = {1,2,3}\n",
        "s2 = s1.copy() # Stoed at different memories\n",
        "\n",
        "print(s1)\n",
        "print(s2)"
      ],
      "metadata": {
        "colab": {
          "base_uri": "https://localhost:8080/"
        },
        "id": "MiLKLeKtyhjM",
        "outputId": "998f670d-f312-4af1-ef68-1220d49a694c"
      },
      "execution_count": null,
      "outputs": [
        {
          "output_type": "stream",
          "name": "stdout",
          "text": [
            "{1, 2, 3}\n",
            "{1, 2, 3}\n"
          ]
        }
      ]
    },
    {
      "cell_type": "markdown",
      "source": [
        "# FrozenSet\n",
        "\n",
        "* It is immutable version of Python set object\n",
        "* All the operations union, intersection and many more will work on it\n",
        "* Add, delete, edit and these functions will not work\n",
        "* 2D frozenset are possible as they are immutable"
      ],
      "metadata": {
        "id": "6vYDU9n9y75J"
      }
    },
    {
      "cell_type": "code",
      "source": [
        "fs = frozenset([1,2,3])\n",
        "fs"
      ],
      "metadata": {
        "colab": {
          "base_uri": "https://localhost:8080/"
        },
        "id": "H9k3mMkQyr4b",
        "outputId": "7b5fac39-dffb-49a4-e9bd-b5582118af04"
      },
      "execution_count": null,
      "outputs": [
        {
          "output_type": "execute_result",
          "data": {
            "text/plain": [
              "frozenset({1, 2, 3})"
            ]
          },
          "metadata": {},
          "execution_count": 2
        }
      ]
    },
    {
      "cell_type": "markdown",
      "source": [
        "# Set Comprehension"
      ],
      "metadata": {
        "id": "qhauH9jAzo_6"
      }
    },
    {
      "cell_type": "code",
      "source": [
        "s = {i for i in range(1,11)}\n",
        "s"
      ],
      "metadata": {
        "colab": {
          "base_uri": "https://localhost:8080/"
        },
        "id": "tj69mQsBzQLc",
        "outputId": "57e58cb8-8550-48b1-9f27-bf9f6d990b73"
      },
      "execution_count": null,
      "outputs": [
        {
          "output_type": "execute_result",
          "data": {
            "text/plain": [
              "{1, 2, 3, 4, 5, 6, 7, 8, 9, 10}"
            ]
          },
          "metadata": {},
          "execution_count": 73
        }
      ]
    },
    {
      "cell_type": "markdown",
      "source": [
        "# Dictionary\n",
        "\n",
        "* Collection of key-value pairs\n",
        "* Known as Associative Arrays\n",
        "* Mutable\n",
        "* Indexing has no meaning\n",
        "* Keys can't be duplicated\n",
        "* Keys can't be mutable items"
      ],
      "metadata": {
        "id": "49j32VzQLnPA"
      }
    },
    {
      "cell_type": "markdown",
      "source": [
        "# Create Dictionary"
      ],
      "metadata": {
        "id": "uCMXT57pMDBU"
      }
    },
    {
      "cell_type": "code",
      "source": [
        "# Empty\n",
        "d = {}\n",
        "print(d)\n",
        "\n",
        "# 1D (Homogeneous)\n",
        "d1 = {\"name\": \"Sidhi\"}\n",
        "print(d1)\n",
        "\n",
        "# 1D (Heterogeneous)\n",
        "d2 = {\"name\": \"Sidhi\" , \"ID\": 45}\n",
        "print(d2)"
      ],
      "metadata": {
        "id": "dKmHTVPxz2z_",
        "colab": {
          "base_uri": "https://localhost:8080/"
        },
        "outputId": "66ac25d5-b11f-46db-d97f-38be36171841"
      },
      "execution_count": null,
      "outputs": [
        {
          "output_type": "stream",
          "name": "stdout",
          "text": [
            "{}\n",
            "{'name': 'Sidhi'}\n",
            "{'name': 'Sidhi', 'ID': 45}\n"
          ]
        }
      ]
    },
    {
      "cell_type": "code",
      "source": [
        "# 2D\n",
        "{'name':'Sidhi','College':'UIET','Sem':6,'Subjects':{'DSA':75,'Maths':85,'English':70}}"
      ],
      "metadata": {
        "colab": {
          "base_uri": "https://localhost:8080/"
        },
        "id": "7dJ5gQhkMV-E",
        "outputId": "c6ff3cfb-97af-40bb-dc2c-16feaff1fbd7"
      },
      "execution_count": null,
      "outputs": [
        {
          "output_type": "execute_result",
          "data": {
            "text/plain": [
              "{'name': 'Sidhi',\n",
              " 'College': 'UIET',\n",
              " 'Sem': 6,\n",
              " 'Subjects': {'DSA': 75, 'Maths': 85, 'English': 70}}"
            ]
          },
          "metadata": {},
          "execution_count": 5
        }
      ]
    },
    {
      "cell_type": "code",
      "source": [
        "d4 = dict([(1,1),{'Name','Sidhi'}])\n",
        "print(d4)"
      ],
      "metadata": {
        "colab": {
          "base_uri": "https://localhost:8080/"
        },
        "id": "Guf6ob7MMZTj",
        "outputId": "cc674963-5e84-49f7-a115-be4a1b5492cb"
      },
      "execution_count": null,
      "outputs": [
        {
          "output_type": "stream",
          "name": "stdout",
          "text": [
            "{1: 1, 'Name': 'Sidhi'}\n"
          ]
        }
      ]
    },
    {
      "cell_type": "code",
      "source": [
        "d5 = {'Name':[\"Sidhi\",\"Ajay\",\"Akshay\"]}\n",
        "print(d5)"
      ],
      "metadata": {
        "colab": {
          "base_uri": "https://localhost:8080/"
        },
        "id": "Am0U_KyiM6TT",
        "outputId": "1ad2ae8e-9ab2-4dc6-a390-782de8c0134e"
      },
      "execution_count": null,
      "outputs": [
        {
          "output_type": "stream",
          "name": "stdout",
          "text": [
            "{'Name': ['Sidhi', 'Ajay', 'Akshay']}\n"
          ]
        }
      ]
    },
    {
      "cell_type": "markdown",
      "source": [
        "# Accessing Items"
      ],
      "metadata": {
        "id": "kM3O8Y93Nll5"
      }
    },
    {
      "cell_type": "code",
      "source": [
        "my_dict = {'name':'Sidhi','Age':19}\n",
        "my_dict['name']"
      ],
      "metadata": {
        "colab": {
          "base_uri": "https://localhost:8080/",
          "height": 35
        },
        "id": "9cg1dU_PNhB4",
        "outputId": "0f13da18-171f-4275-9b97-9b16b802af64"
      },
      "execution_count": null,
      "outputs": [
        {
          "output_type": "execute_result",
          "data": {
            "text/plain": [
              "'Sidhi'"
            ],
            "application/vnd.google.colaboratory.intrinsic+json": {
              "type": "string"
            }
          },
          "metadata": {},
          "execution_count": 11
        }
      ]
    },
    {
      "cell_type": "code",
      "source": [
        "my_dict = {'name':'Sidhi','Age':19}\n",
        "my_dict.get('name')"
      ],
      "metadata": {
        "colab": {
          "base_uri": "https://localhost:8080/",
          "height": 35
        },
        "id": "J7S0yNiANy0U",
        "outputId": "8a7b0343-811f-48a1-f699-fb053ba852b7"
      },
      "execution_count": null,
      "outputs": [
        {
          "output_type": "execute_result",
          "data": {
            "text/plain": [
              "'Sidhi'"
            ],
            "application/vnd.google.colaboratory.intrinsic+json": {
              "type": "string"
            }
          },
          "metadata": {},
          "execution_count": 12
        }
      ]
    },
    {
      "cell_type": "code",
      "source": [
        "d = {'name':'Sidhi','College':'UIET','Sem':6,'Subjects':{'DSA':75,'Maths':85,'English':70}}\n",
        "d['Subjects']['Ds'] = 75\n",
        "print(d)"
      ],
      "metadata": {
        "colab": {
          "base_uri": "https://localhost:8080/"
        },
        "id": "kzBMBg9SO_WT",
        "outputId": "fb12b24d-916f-4d5c-b370-507e89757cce"
      },
      "execution_count": null,
      "outputs": [
        {
          "output_type": "stream",
          "name": "stdout",
          "text": [
            "{'name': 'Sidhi', 'College': 'UIET', 'Sem': 6, 'Subjects': {'DSA': 75, 'Maths': 85, 'English': 70, 'Ds': 75}}\n"
          ]
        }
      ]
    },
    {
      "cell_type": "markdown",
      "source": [
        "# Adding Key-value Pair"
      ],
      "metadata": {
        "id": "10sh-o1UNvdJ"
      }
    },
    {
      "cell_type": "code",
      "source": [
        "my_dict['Gender'] = 'Female'\n",
        "my_dict"
      ],
      "metadata": {
        "colab": {
          "base_uri": "https://localhost:8080/"
        },
        "id": "CT6Jzfz3Nsgq",
        "outputId": "cdc7eef4-b017-44a0-d12d-6c8475eb5744"
      },
      "execution_count": null,
      "outputs": [
        {
          "output_type": "execute_result",
          "data": {
            "text/plain": [
              "{'name': 'Sidhi', 'Age': 19, 'Gender': 'Female'}"
            ]
          },
          "metadata": {},
          "execution_count": 14
        }
      ]
    },
    {
      "cell_type": "markdown",
      "source": [
        "# Removing Pair"
      ],
      "metadata": {
        "id": "GifcpZdFOOHf"
      }
    },
    {
      "cell_type": "code",
      "source": [
        "# Pop\n",
        "d = {'name':'Sidhi',3:3,'gender':'Female','Age':19}\n",
        "d.pop(3)\n",
        "print(d)"
      ],
      "metadata": {
        "colab": {
          "base_uri": "https://localhost:8080/"
        },
        "id": "zHnS3rQ_N6_w",
        "outputId": "b4366991-bdc3-4c59-b110-e07eaaa8c6b0"
      },
      "execution_count": null,
      "outputs": [
        {
          "output_type": "stream",
          "name": "stdout",
          "text": [
            "{'name': 'Sidhi', 'gender': 'Female', 'Age': 19}\n"
          ]
        }
      ]
    },
    {
      "cell_type": "code",
      "source": [
        "# Popitem (Deletes last item)\n",
        "d.popitem()\n",
        "print(d)"
      ],
      "metadata": {
        "colab": {
          "base_uri": "https://localhost:8080/"
        },
        "id": "GkJ9OGUlOdOf",
        "outputId": "3389b058-af43-4134-bdac-d7f059609949"
      },
      "execution_count": null,
      "outputs": [
        {
          "output_type": "stream",
          "name": "stdout",
          "text": [
            "{'name': 'Sidhi', 'gender': 'Female'}\n"
          ]
        }
      ]
    },
    {
      "cell_type": "code",
      "source": [
        "# del\n",
        "del my_dict"
      ],
      "metadata": {
        "id": "C8Rxx4iQOim6"
      },
      "execution_count": null,
      "outputs": []
    },
    {
      "cell_type": "code",
      "source": [
        "del d['name']\n",
        "print(d)"
      ],
      "metadata": {
        "colab": {
          "base_uri": "https://localhost:8080/"
        },
        "id": "J8-v8KlUOmhN",
        "outputId": "d9c59662-87b3-46d2-e1d7-9d4f77488bae"
      },
      "execution_count": null,
      "outputs": [
        {
          "output_type": "stream",
          "name": "stdout",
          "text": [
            "{'gender': 'Female'}\n"
          ]
        }
      ]
    },
    {
      "cell_type": "code",
      "source": [
        "# Clear\n",
        "d.clear()\n",
        "print(d)"
      ],
      "metadata": {
        "colab": {
          "base_uri": "https://localhost:8080/"
        },
        "id": "W1dgrX7rOouV",
        "outputId": "d7908843-baf3-436e-c9a9-1e6da1b6281d"
      },
      "execution_count": null,
      "outputs": [
        {
          "output_type": "stream",
          "name": "stdout",
          "text": [
            "{}\n"
          ]
        }
      ]
    },
    {
      "cell_type": "markdown",
      "source": [
        "# Editing key-value Pair"
      ],
      "metadata": {
        "id": "YuysPJq_PNxT"
      }
    },
    {
      "cell_type": "code",
      "source": [
        "d = {'name':'Sidhi','College':'UIET','Sem':6,'Subjects':{'DSA':75,'Maths':85,'English':70}}\n",
        "d['Sem'] = 8\n",
        "d['Subjects']['DSA'] = 80\n",
        "print(d)"
      ],
      "metadata": {
        "colab": {
          "base_uri": "https://localhost:8080/"
        },
        "id": "Jg6-Ep0OOuPW",
        "outputId": "49f34d11-64ce-435c-a83e-3bb80475dbab"
      },
      "execution_count": null,
      "outputs": [
        {
          "output_type": "stream",
          "name": "stdout",
          "text": [
            "{'name': 'Sidhi', 'College': 'UIET', 'Sem': 8, 'Subjects': {'DSA': 80, 'Maths': 85, 'English': 70}}\n"
          ]
        }
      ]
    },
    {
      "cell_type": "markdown",
      "source": [
        "# Dictionary Operations\n",
        "* Membership\n",
        "* Iterations"
      ],
      "metadata": {
        "id": "91hsE3o-PeTD"
      }
    },
    {
      "cell_type": "code",
      "source": [
        "d"
      ],
      "metadata": {
        "colab": {
          "base_uri": "https://localhost:8080/"
        },
        "id": "0AkLodntPZiL",
        "outputId": "b0d9cfee-fe97-4c1d-f28b-a1c9f5fc13ee"
      },
      "execution_count": null,
      "outputs": [
        {
          "output_type": "execute_result",
          "data": {
            "text/plain": [
              "{'name': 'Sidhi',\n",
              " 'College': 'UIET',\n",
              " 'Sem': 8,\n",
              " 'Subjects': {'DSA': 80, 'Maths': 85, 'English': 70}}"
            ]
          },
          "metadata": {},
          "execution_count": 25
        }
      ]
    },
    {
      "cell_type": "code",
      "source": [
        "'Sidhi' in d\n",
        "# It is founding 'Sidhi' as key"
      ],
      "metadata": {
        "colab": {
          "base_uri": "https://localhost:8080/"
        },
        "id": "kDviobaKPone",
        "outputId": "b391fa35-96ff-4b71-c618-429d81928350"
      },
      "execution_count": null,
      "outputs": [
        {
          "output_type": "execute_result",
          "data": {
            "text/plain": [
              "False"
            ]
          },
          "metadata": {},
          "execution_count": 26
        }
      ]
    },
    {
      "cell_type": "code",
      "source": [
        "'Name' in d"
      ],
      "metadata": {
        "colab": {
          "base_uri": "https://localhost:8080/"
        },
        "id": "3fAj8TquPrQ4",
        "outputId": "bdd8b5b5-218d-4fec-90ea-8b44d4ea9574"
      },
      "execution_count": null,
      "outputs": [
        {
          "output_type": "execute_result",
          "data": {
            "text/plain": [
              "False"
            ]
          },
          "metadata": {},
          "execution_count": 27
        }
      ]
    },
    {
      "cell_type": "code",
      "source": [
        "for i in d:\n",
        "  print(i)"
      ],
      "metadata": {
        "colab": {
          "base_uri": "https://localhost:8080/"
        },
        "id": "LPySfB2tPweB",
        "outputId": "882a5c39-e303-4f4a-e4ed-efc03094d8e4"
      },
      "execution_count": null,
      "outputs": [
        {
          "output_type": "stream",
          "name": "stdout",
          "text": [
            "name\n",
            "College\n",
            "Sem\n",
            "Subjects\n"
          ]
        }
      ]
    },
    {
      "cell_type": "code",
      "source": [
        "for i in d:\n",
        "  print(d[i])"
      ],
      "metadata": {
        "colab": {
          "base_uri": "https://localhost:8080/"
        },
        "id": "HwSbtP-dPzzi",
        "outputId": "10678c44-4e5f-4327-a6d2-d13126749d79"
      },
      "execution_count": null,
      "outputs": [
        {
          "output_type": "stream",
          "name": "stdout",
          "text": [
            "Sidhi\n",
            "UIET\n",
            "8\n",
            "{'DSA': 80, 'Maths': 85, 'English': 70}\n"
          ]
        }
      ]
    },
    {
      "cell_type": "code",
      "source": [
        "for i in d:\n",
        "  print(i,d[i])"
      ],
      "metadata": {
        "colab": {
          "base_uri": "https://localhost:8080/"
        },
        "id": "z8Q1HkYLP3ZP",
        "outputId": "6c65b663-6427-4888-9f0f-a975a0418090"
      },
      "execution_count": null,
      "outputs": [
        {
          "output_type": "stream",
          "name": "stdout",
          "text": [
            "name Sidhi\n",
            "College UIET\n",
            "Sem 8\n",
            "Subjects {'DSA': 80, 'Maths': 85, 'English': 70}\n"
          ]
        }
      ]
    },
    {
      "cell_type": "markdown",
      "source": [
        "# Dictionary Functions"
      ],
      "metadata": {
        "id": "oeZ4LYhUP7WN"
      }
    },
    {
      "cell_type": "code",
      "source": [
        "# len/sorted\n",
        "print(len(d))\n",
        "print(sorted(d))\n",
        "print(max(d))"
      ],
      "metadata": {
        "colab": {
          "base_uri": "https://localhost:8080/"
        },
        "id": "04KPTnT5P5-v",
        "outputId": "70eaf31a-22b9-4940-fcbb-cd63cd0565dc"
      },
      "execution_count": null,
      "outputs": [
        {
          "output_type": "stream",
          "name": "stdout",
          "text": [
            "4\n",
            "['College', 'Sem', 'Subjects', 'name']\n",
            "name\n"
          ]
        }
      ]
    },
    {
      "cell_type": "code",
      "source": [
        "# items/keys/values\n",
        "print(d)\n",
        "print(d.items())\n",
        "print(d.keys())\n",
        "print(d.values())"
      ],
      "metadata": {
        "colab": {
          "base_uri": "https://localhost:8080/"
        },
        "id": "9JKj-Yb3QBW9",
        "outputId": "108aa6e5-7d27-4b83-c6b9-da27975ac706"
      },
      "execution_count": null,
      "outputs": [
        {
          "output_type": "stream",
          "name": "stdout",
          "text": [
            "{'name': 'Sidhi', 'College': 'UIET', 'Sem': 8, 'Subjects': {'DSA': 80, 'Maths': 85, 'English': 70}}\n",
            "dict_items([('name', 'Sidhi'), ('College', 'UIET'), ('Sem', 8), ('Subjects', {'DSA': 80, 'Maths': 85, 'English': 70})])\n",
            "dict_keys(['name', 'College', 'Sem', 'Subjects'])\n",
            "dict_values(['Sidhi', 'UIET', 8, {'DSA': 80, 'Maths': 85, 'English': 70}])\n"
          ]
        }
      ]
    },
    {
      "cell_type": "code",
      "source": [
        "# Update\n",
        "# Updating the vlaues on the basis of other dict\n",
        "\n",
        "d1 = {1:2,3:4,4:5}\n",
        "d2 = {4:7,6:8}\n",
        "\n",
        "d1.update(d2)\n",
        "print(d1)"
      ],
      "metadata": {
        "colab": {
          "base_uri": "https://localhost:8080/"
        },
        "id": "hXXcpJzwQYM3",
        "outputId": "b2ffaf70-1a83-4bb2-d407-6ffa7ef23f65"
      },
      "execution_count": null,
      "outputs": [
        {
          "output_type": "stream",
          "name": "stdout",
          "text": [
            "{1: 2, 3: 4, 4: 7, 6: 8}\n"
          ]
        }
      ]
    },
    {
      "cell_type": "markdown",
      "source": [
        "# Dictionary Comprehension"
      ],
      "metadata": {
        "id": "JubIHuOfQoiS"
      }
    },
    {
      "cell_type": "code",
      "source": [
        "d = {i:i**2 for i in range(1,11)}\n",
        "print(d)"
      ],
      "metadata": {
        "colab": {
          "base_uri": "https://localhost:8080/"
        },
        "id": "n6HE9K_cQhSC",
        "outputId": "9ee29c5b-ff98-4abb-ab67-2794433111e7"
      },
      "execution_count": null,
      "outputs": [
        {
          "output_type": "stream",
          "name": "stdout",
          "text": [
            "{1: 1, 2: 4, 3: 9, 4: 16, 5: 25, 6: 36, 7: 49, 8: 64, 9: 81, 10: 100}\n"
          ]
        }
      ]
    },
    {
      "cell_type": "code",
      "source": [
        "distances = {'delhi':1000,'mumbai':2000,'banglore':3000}\n",
        "{key:value*0.62 for (key,value) in distances.items()}"
      ],
      "metadata": {
        "colab": {
          "base_uri": "https://localhost:8080/"
        },
        "id": "fNhGvh5tQwie",
        "outputId": "c4679999-510a-420b-8a64-0703ae29acc5"
      },
      "execution_count": null,
      "outputs": [
        {
          "output_type": "execute_result",
          "data": {
            "text/plain": [
              "{'delhi': 620.0, 'mumbai': 1240.0, 'banglore': 1860.0}"
            ]
          },
          "metadata": {},
          "execution_count": 40
        }
      ]
    },
    {
      "cell_type": "markdown",
      "source": [
        "# Zip"
      ],
      "metadata": {
        "id": "vORZFid5Sdi5"
      }
    },
    {
      "cell_type": "code",
      "source": [
        "a = [1,45,8]\n",
        "b = ['Monday','Tuesday','Wednesday']\n",
        "\n",
        "{i:j for (i,j) in zip(a,b)}"
      ],
      "metadata": {
        "colab": {
          "base_uri": "https://localhost:8080/"
        },
        "id": "CVj33I6LSEe_",
        "outputId": "946d770f-8d62-40dd-8db0-2320f83abdd8"
      },
      "execution_count": null,
      "outputs": [
        {
          "output_type": "execute_result",
          "data": {
            "text/plain": [
              "{1: 'Monday', 45: 'Tuesday', 8: 'Wednesday'}"
            ]
          },
          "metadata": {},
          "execution_count": 41
        }
      ]
    },
    {
      "cell_type": "markdown",
      "source": [
        "# Nested Comprehension"
      ],
      "metadata": {
        "id": "Hl8hcRP9TBp-"
      }
    },
    {
      "cell_type": "code",
      "source": [
        "{i:{j:i*j for j in range(1,11)} for i in range(2,5)}"
      ],
      "metadata": {
        "colab": {
          "base_uri": "https://localhost:8080/"
        },
        "id": "RhoZZSRFS2m-",
        "outputId": "5a17b4a0-7e84-44c5-a592-2c75ceb35a81"
      },
      "execution_count": null,
      "outputs": [
        {
          "output_type": "execute_result",
          "data": {
            "text/plain": [
              "{2: {1: 2, 2: 4, 3: 6, 4: 8, 5: 10, 6: 12, 7: 14, 8: 16, 9: 18, 10: 20},\n",
              " 3: {1: 3, 2: 6, 3: 9, 4: 12, 5: 15, 6: 18, 7: 21, 8: 24, 9: 27, 10: 30},\n",
              " 4: {1: 4, 2: 8, 3: 12, 4: 16, 5: 20, 6: 24, 7: 28, 8: 32, 9: 36, 10: 40}}"
            ]
          },
          "metadata": {},
          "execution_count": 43
        }
      ]
    },
    {
      "cell_type": "code",
      "source": [],
      "metadata": {
        "id": "evSyo9bfTXV2"
      },
      "execution_count": null,
      "outputs": []
    }
  ]
}