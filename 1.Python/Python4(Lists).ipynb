{
  "nbformat": 4,
  "nbformat_minor": 0,
  "metadata": {
    "colab": {
      "provenance": []
    },
    "kernelspec": {
      "name": "python3",
      "display_name": "Python 3"
    },
    "language_info": {
      "name": "python"
    }
  },
  "cells": [
    {
      "cell_type": "markdown",
      "source": [
        "# Lists\n",
        "List are the data types where you can store multiple items under one name. Technically, lists are like dynamic array which means we can add more items on the fly."
      ],
      "metadata": {
        "id": "EOpLobUkxZGZ"
      }
    },
    {
      "cell_type": "markdown",
      "source": [
        "# Array Vs List\n",
        "Advantages\n",
        "*   Fixed Vs Dynamic Size\n",
        "*   Convenience (Homogeneous and   Heterogeneous data types)\n",
        "\n",
        "Disadvantages\n",
        "*   Speed of Execution (Speed of Lists is slow than arrays)\n",
        "*   Memory (Memory of List is more than array)\n"
      ],
      "metadata": {
        "id": "QMmNYG3px7o2"
      }
    },
    {
      "cell_type": "markdown",
      "source": [
        "# How Lists are Stored in Memory\n",
        "In list, instead of storing values, we store the address of the memory block in which those values are stored. And list also has some address of itself.\n",
        "It is also known as  Referential Array.\n",
        "That's why it is slower and taking up more space than array."
      ],
      "metadata": {
        "id": "RBjRGVobyxbg"
      }
    },
    {
      "cell_type": "markdown",
      "source": [
        "# Characteristics of List\n",
        "* Ordered\n",
        "* Changeble/Mutable (That's why they are risky in nature)\n",
        "* Heterogeneous\n",
        "* Can Have Duplicates\n",
        "* Are Dynamic\n",
        "* Can be Nested\n",
        "* Items can be Accessed\n",
        "* Can contain any kind of objects"
      ],
      "metadata": {
        "id": "A6mjbf4L0KRe"
      }
    },
    {
      "cell_type": "markdown",
      "source": [
        "# Creating A List"
      ],
      "metadata": {
        "id": "0PlU7KIz0xom"
      }
    },
    {
      "cell_type": "markdown",
      "source": [
        "Empty"
      ],
      "metadata": {
        "id": "M5JXYPBu0-0t"
      }
    },
    {
      "cell_type": "code",
      "execution_count": null,
      "metadata": {
        "colab": {
          "base_uri": "https://localhost:8080/"
        },
        "id": "lcQOag4VwX73",
        "outputId": "d060d800-42d1-40d2-e024-b16c52597c53"
      },
      "outputs": [
        {
          "output_type": "stream",
          "name": "stdout",
          "text": [
            "[]\n"
          ]
        }
      ],
      "source": [
        "print([])"
      ]
    },
    {
      "cell_type": "markdown",
      "source": [
        "1D List"
      ],
      "metadata": {
        "id": "8-LpP_l31CRa"
      }
    },
    {
      "cell_type": "code",
      "source": [
        "print([1,2,3,4,5])\n",
        "# Homogeneous"
      ],
      "metadata": {
        "colab": {
          "base_uri": "https://localhost:8080/"
        },
        "id": "laef6ZrT1Aoa",
        "outputId": "2d7a2caa-5602-4beb-adb4-4c557f6c2fc6"
      },
      "execution_count": null,
      "outputs": [
        {
          "output_type": "stream",
          "name": "stdout",
          "text": [
            "[1, 2, 3, 4, 5]\n"
          ]
        }
      ]
    },
    {
      "cell_type": "markdown",
      "source": [
        "2D List"
      ],
      "metadata": {
        "id": "izymLU2_1HKJ"
      }
    },
    {
      "cell_type": "code",
      "source": [
        "print([1,2,5,[4,5]])\n",
        "# Heterogeneous i.e. int and List data types"
      ],
      "metadata": {
        "colab": {
          "base_uri": "https://localhost:8080/"
        },
        "id": "uZ9gBE5N1F6f",
        "outputId": "85b7a399-8ff3-47b3-96e4-896ba6c9bc82"
      },
      "execution_count": null,
      "outputs": [
        {
          "output_type": "stream",
          "name": "stdout",
          "text": [
            "[1, 2, 5, [4, 5]]\n"
          ]
        }
      ]
    },
    {
      "cell_type": "markdown",
      "source": [
        "3D List"
      ],
      "metadata": {
        "id": "CxgXtOdD1R4P"
      }
    },
    {
      "cell_type": "code",
      "source": [
        "print([[[1,2],[3,4]],[[5,6],[7,8]]])\n",
        "# Homogeneous"
      ],
      "metadata": {
        "colab": {
          "base_uri": "https://localhost:8080/"
        },
        "id": "AVN9uwnK1J5t",
        "outputId": "f69c1277-e589-4561-fb45-db5c553fd180"
      },
      "execution_count": null,
      "outputs": [
        {
          "output_type": "stream",
          "name": "stdout",
          "text": [
            "[[[1, 2], [3, 4]], [[5, 6], [7, 8]]]\n"
          ]
        }
      ]
    },
    {
      "cell_type": "code",
      "source": [
        "print([1,5.2,True,6+5j,'Hello'])\n",
        "# Truly Heterogeneous"
      ],
      "metadata": {
        "colab": {
          "base_uri": "https://localhost:8080/"
        },
        "id": "fJ8KitpK1TZS",
        "outputId": "b5b6b770-a4b6-4a4f-eb63-0e2bff315cfe"
      },
      "execution_count": null,
      "outputs": [
        {
          "output_type": "stream",
          "name": "stdout",
          "text": [
            "[1, 5.2, True, (6+5j), 'Hello']\n"
          ]
        }
      ]
    },
    {
      "cell_type": "code",
      "source": [
        "print(list(\"Hello\"))\n",
        "# Type Conversion"
      ],
      "metadata": {
        "colab": {
          "base_uri": "https://localhost:8080/"
        },
        "id": "Yxz0v8yj19IA",
        "outputId": "08f31c49-bf07-4055-fdab-d4b8c41b291c"
      },
      "execution_count": null,
      "outputs": [
        {
          "output_type": "stream",
          "name": "stdout",
          "text": [
            "['H', 'e', 'l', 'l', 'o']\n"
          ]
        }
      ]
    },
    {
      "cell_type": "markdown",
      "source": [
        "# Accessing Items in a List"
      ],
      "metadata": {
        "id": "LCszVq0f2G1X"
      }
    },
    {
      "cell_type": "code",
      "source": [
        "# Positive Indexing\n",
        "l = [1,2,5,3,6]\n",
        "print(l[0])\n",
        "\n",
        "# Negative Indexing\n",
        "print(l[-3])\n",
        "\n",
        "l1 = [1,2,5,[4,3]]\n",
        "print(l1[3][0])\n",
        "\n",
        "l2 = [[[1,2],[3,4]],[[5,6],[7,8]]]\n",
        "print(l2[1][0][0])"
      ],
      "metadata": {
        "colab": {
          "base_uri": "https://localhost:8080/"
        },
        "id": "HeQVj0PE2DHL",
        "outputId": "1eb355ee-dba5-4aaf-c586-e359fae78c45"
      },
      "execution_count": null,
      "outputs": [
        {
          "output_type": "stream",
          "name": "stdout",
          "text": [
            "1\n",
            "5\n",
            "4\n",
            "5\n"
          ]
        }
      ]
    },
    {
      "cell_type": "code",
      "source": [
        "# Slicing\n",
        "\n",
        "l = [1,2,5,3,6]\n",
        "print(l[0:3])\n",
        "print(l[-3:])\n",
        "print(l[0::2])\n",
        "print(l[::-1]) # --> Reversing a List"
      ],
      "metadata": {
        "colab": {
          "base_uri": "https://localhost:8080/"
        },
        "id": "BCj_XLBp2TIB",
        "outputId": "0266273f-3da2-483d-996f-721adb5fa069"
      },
      "execution_count": null,
      "outputs": [
        {
          "output_type": "stream",
          "name": "stdout",
          "text": [
            "[1, 2, 5]\n",
            "[5, 3, 6]\n",
            "[1, 5, 6]\n",
            "[6, 3, 5, 2, 1]\n"
          ]
        }
      ]
    },
    {
      "cell_type": "markdown",
      "source": [
        "# Adding Items to a List"
      ],
      "metadata": {
        "id": "87N_Sxqm36No"
      }
    },
    {
      "cell_type": "code",
      "source": [
        "# Append\n",
        "# Adds one single item at the end of List\n",
        "l = [1,4,5,8,9]\n",
        "l.append(7)\n",
        "print(l)\n",
        "\n",
        "l = [1,4,5,9]\n",
        "l.append([1,4,5])\n",
        "print(l)"
      ],
      "metadata": {
        "colab": {
          "base_uri": "https://localhost:8080/"
        },
        "id": "fSSDFM9I3r4k",
        "outputId": "63c55a75-4090-4632-a29b-bc3aa54b3f30"
      },
      "execution_count": null,
      "outputs": [
        {
          "output_type": "stream",
          "name": "stdout",
          "text": [
            "[1, 4, 5, 8, 9, 7]\n",
            "[1, 4, 5, 9, [1, 4, 5]]\n"
          ]
        }
      ]
    },
    {
      "cell_type": "code",
      "source": [
        "# Extend\n",
        "# It appends multiple Items at the end of List\n",
        "l = [1,2,5,6]\n",
        "l.extend([1,4,5])\n",
        "print(l)\n",
        "\n",
        "l = [1,2,5,3]\n",
        "l.extend(\"Delhi\")\n",
        "print(l)"
      ],
      "metadata": {
        "colab": {
          "base_uri": "https://localhost:8080/"
        },
        "id": "ppYu3MAj4D_v",
        "outputId": "5f7ad630-b4bc-4ea3-e869-74711b869528"
      },
      "execution_count": null,
      "outputs": [
        {
          "output_type": "stream",
          "name": "stdout",
          "text": [
            "[1, 2, 5, 6, 1, 4, 5]\n",
            "[1, 2, 5, 3, 'D', 'e', 'l', 'h', 'i']\n"
          ]
        }
      ]
    },
    {
      "cell_type": "code",
      "source": [
        "# Insert\n",
        "# Inserting in between some values i.e. at some index\n",
        "# Syntax is Index / Value\n",
        "l = [1,2,5,4]\n",
        "l.insert(1,100)\n",
        "print(l)"
      ],
      "metadata": {
        "colab": {
          "base_uri": "https://localhost:8080/"
        },
        "id": "y5TooHp_4M6L",
        "outputId": "ec455e8b-6eb9-45d3-9a87-945613a55cb1"
      },
      "execution_count": null,
      "outputs": [
        {
          "output_type": "stream",
          "name": "stdout",
          "text": [
            "[1, 100, 2, 5, 4]\n"
          ]
        }
      ]
    },
    {
      "cell_type": "markdown",
      "source": [
        "# Editing Items in a List"
      ],
      "metadata": {
        "id": "4MkVcgQc40M3"
      }
    },
    {
      "cell_type": "code",
      "source": [
        "l = [1,2,3,4,5]\n",
        "l[-1] = 500\n",
        "print(l)\n",
        "\n",
        "l[1:4] = [20,30,40]\n",
        "print(l)"
      ],
      "metadata": {
        "colab": {
          "base_uri": "https://localhost:8080/"
        },
        "id": "vcAu815f4s6R",
        "outputId": "62f6e31b-ecd0-4411-c5f9-4be64221aae1"
      },
      "execution_count": null,
      "outputs": [
        {
          "output_type": "stream",
          "name": "stdout",
          "text": [
            "[1, 2, 3, 4, 500]\n",
            "[1, 20, 30, 40, 500]\n"
          ]
        }
      ]
    },
    {
      "cell_type": "markdown",
      "source": [
        "# Deleting Items in a List"
      ],
      "metadata": {
        "id": "heMKkJbd5JAc"
      }
    },
    {
      "cell_type": "code",
      "source": [
        "# del\n",
        "# It will delete but actually it doesnot delete in the memory\n",
        "L = [1,2,3,4,5]\n",
        "print(L)\n",
        "del L\n",
        "# print(L)"
      ],
      "metadata": {
        "colab": {
          "base_uri": "https://localhost:8080/"
        },
        "id": "qIA9p0lL48k6",
        "outputId": "35b8000f-0afb-4472-f768-41004c3dc661"
      },
      "execution_count": null,
      "outputs": [
        {
          "output_type": "stream",
          "name": "stdout",
          "text": [
            "[1, 2, 3, 4, 5]\n"
          ]
        }
      ]
    },
    {
      "cell_type": "code",
      "source": [
        "# Indexing\n",
        "L = [1,2,3,4,5]\n",
        "del L[-1]\n",
        "print(L)\n",
        "\n",
        "del L[1:3]\n",
        "print(L)"
      ],
      "metadata": {
        "colab": {
          "base_uri": "https://localhost:8080/"
        },
        "id": "niQvjjqU5Z24",
        "outputId": "baaeacd9-46f7-4a35-a3fc-7be85276017b"
      },
      "execution_count": null,
      "outputs": [
        {
          "output_type": "stream",
          "name": "stdout",
          "text": [
            "[1, 2, 3, 4]\n",
            "[1, 4]\n"
          ]
        }
      ]
    },
    {
      "cell_type": "code",
      "source": [
        "# Remove\n",
        "# Remove item according to the value\n",
        "\n",
        "L = [1,2,3,4,5]\n",
        "L.remove(5)\n",
        "print(L)"
      ],
      "metadata": {
        "colab": {
          "base_uri": "https://localhost:8080/"
        },
        "id": "3yt9xTEZ5ljp",
        "outputId": "e1f12834-6a20-4132-89b9-62420e7c928a"
      },
      "execution_count": null,
      "outputs": [
        {
          "output_type": "stream",
          "name": "stdout",
          "text": [
            "[1, 2, 3, 4]\n"
          ]
        }
      ]
    },
    {
      "cell_type": "code",
      "source": [
        "# Pop\n",
        "# Deleting item at Particular Index\n",
        "# And Default if index is not provided, then it deletes the last element\n",
        "L = [1,2,3,4,5]\n",
        "L.pop()\n",
        "print(L)"
      ],
      "metadata": {
        "colab": {
          "base_uri": "https://localhost:8080/"
        },
        "id": "MBM8sSOj5v5_",
        "outputId": "38c576d8-7a23-44bb-f3e4-f6e05beafe6c"
      },
      "execution_count": null,
      "outputs": [
        {
          "output_type": "stream",
          "name": "stdout",
          "text": [
            "[1, 2, 3, 4]\n"
          ]
        }
      ]
    },
    {
      "cell_type": "code",
      "source": [
        "# Clear\n",
        "# Deletes all the elements not the list\n",
        "L = [1,2,3,4]\n",
        "L.clear()\n",
        "print(L)"
      ],
      "metadata": {
        "colab": {
          "base_uri": "https://localhost:8080/"
        },
        "id": "PtmCN3tz59EA",
        "outputId": "4e06bd05-bce0-4720-ce67-c135be776779"
      },
      "execution_count": null,
      "outputs": [
        {
          "output_type": "stream",
          "name": "stdout",
          "text": [
            "[]\n"
          ]
        }
      ]
    },
    {
      "cell_type": "markdown",
      "source": [
        "# Operations on Lists\n",
        "* Arithmetic\n",
        "* Membership\n",
        "* Loop"
      ],
      "metadata": {
        "id": "vAb6oadn6FjQ"
      }
    },
    {
      "cell_type": "code",
      "source": [
        "# Arithmetic (+,*)\n",
        "\n",
        "l1 = [1,2,5,3]\n",
        "l2 = [4,7,5,9]\n",
        "\n",
        "print(l1+l2)\n",
        "print(l1*2)"
      ],
      "metadata": {
        "colab": {
          "base_uri": "https://localhost:8080/"
        },
        "id": "lrgsOjlc6BEf",
        "outputId": "f7c87c34-35e2-49f3-c5ba-bb1b3e78b057"
      },
      "execution_count": null,
      "outputs": [
        {
          "output_type": "stream",
          "name": "stdout",
          "text": [
            "[1, 2, 5, 3, 4, 7, 5, 9]\n",
            "[1, 2, 5, 3, 1, 2, 5, 3]\n"
          ]
        }
      ]
    },
    {
      "cell_type": "code",
      "source": [
        "# MemberShip\n",
        "\n",
        "L1 = [1,4,2,5]\n",
        "L2 = [4,5,8,[6,2]]\n",
        "\n",
        "print(5 in L1)\n",
        "print(6 in L2)\n",
        "print([6,2] in L2)"
      ],
      "metadata": {
        "colab": {
          "base_uri": "https://localhost:8080/"
        },
        "id": "yHxmetHE6SLh",
        "outputId": "a0b2ee38-894f-4406-96c9-ccf6507b0dba"
      },
      "execution_count": null,
      "outputs": [
        {
          "output_type": "stream",
          "name": "stdout",
          "text": [
            "True\n",
            "False\n",
            "True\n"
          ]
        }
      ]
    },
    {
      "cell_type": "code",
      "source": [
        "# Loop\n",
        "\n",
        "l1 = [1,2,5,3,6]\n",
        "\n",
        "for i in l1:\n",
        "  print(i)"
      ],
      "metadata": {
        "colab": {
          "base_uri": "https://localhost:8080/"
        },
        "id": "K40S3vDt6rSq",
        "outputId": "3ae529db-8726-41a0-b49e-ed772e5a93f9"
      },
      "execution_count": null,
      "outputs": [
        {
          "output_type": "stream",
          "name": "stdout",
          "text": [
            "1\n",
            "2\n",
            "5\n",
            "3\n",
            "6\n"
          ]
        }
      ]
    },
    {
      "cell_type": "code",
      "source": [
        "l1 = [[[1,2],[3,4]],[[5,6],[7,8]]]\n",
        "\n",
        "for i in l1:\n",
        "  print(i)"
      ],
      "metadata": {
        "colab": {
          "base_uri": "https://localhost:8080/"
        },
        "id": "F37fcAIQ66TX",
        "outputId": "ab3318c6-6e22-4acd-8b32-0994719d3e40"
      },
      "execution_count": null,
      "outputs": [
        {
          "output_type": "stream",
          "name": "stdout",
          "text": [
            "[[1, 2], [3, 4]]\n",
            "[[5, 6], [7, 8]]\n"
          ]
        }
      ]
    },
    {
      "cell_type": "markdown",
      "source": [
        "# List Functions"
      ],
      "metadata": {
        "id": "j_Ou6cfj6oft"
      }
    },
    {
      "cell_type": "code",
      "source": [
        "# len/min/max/sorted\n",
        "\n",
        "L = [2,4,1,9,5]\n",
        "\n",
        "print(len(L))\n",
        "print(min(L))\n",
        "print(max(L))\n",
        "print(sorted(L,reverse = True)) # This is not a Permanent"
      ],
      "metadata": {
        "colab": {
          "base_uri": "https://localhost:8080/"
        },
        "id": "kY29YrSJ6g2V",
        "outputId": "31b17de6-f464-45b8-f14c-9fc09e6df40d"
      },
      "execution_count": null,
      "outputs": [
        {
          "output_type": "stream",
          "name": "stdout",
          "text": [
            "5\n",
            "1\n",
            "9\n",
            "[9, 5, 4, 2, 1]\n"
          ]
        }
      ]
    },
    {
      "cell_type": "code",
      "source": [
        "# Count\n",
        "\n",
        "L = [1,2,4,1,5,8,6]\n",
        "L.count(1)"
      ],
      "metadata": {
        "colab": {
          "base_uri": "https://localhost:8080/"
        },
        "id": "kHn0ormH7cPn",
        "outputId": "1073b864-0593-4895-aed6-d42857ef0599"
      },
      "execution_count": null,
      "outputs": [
        {
          "output_type": "execute_result",
          "data": {
            "text/plain": [
              "2"
            ]
          },
          "metadata": {},
          "execution_count": 38
        }
      ]
    },
    {
      "cell_type": "code",
      "source": [
        "# Index\n",
        "# Displays the first Occurrence\n",
        "L = [4,5,8,9,3]\n",
        "L.index(8)"
      ],
      "metadata": {
        "colab": {
          "base_uri": "https://localhost:8080/"
        },
        "id": "UdPcU6yr7tAk",
        "outputId": "efd0b562-ea9e-4bf0-b7a3-fedad2fb1a2b"
      },
      "execution_count": null,
      "outputs": [
        {
          "output_type": "execute_result",
          "data": {
            "text/plain": [
              "2"
            ]
          },
          "metadata": {},
          "execution_count": 39
        }
      ]
    },
    {
      "cell_type": "code",
      "source": [
        "# Reverse\n",
        "# This is a permanent Operation\n",
        "l = [1,2,5,8,9]\n",
        "l.reverse()\n",
        "print(l)"
      ],
      "metadata": {
        "colab": {
          "base_uri": "https://localhost:8080/"
        },
        "id": "lLv9_maJ7xGP",
        "outputId": "acf623a4-b7b3-4531-c5ac-f69846db9266"
      },
      "execution_count": null,
      "outputs": [
        {
          "output_type": "stream",
          "name": "stdout",
          "text": [
            "[9, 8, 5, 2, 1]\n"
          ]
        }
      ]
    },
    {
      "cell_type": "code",
      "source": [
        "# Sort\n",
        "# Permanent Operation\n",
        "L = [4,5,8,2,3]\n",
        "print(L)\n",
        "print(sorted(L))\n",
        "print(L)\n",
        "L.sort()\n",
        "print(L)"
      ],
      "metadata": {
        "colab": {
          "base_uri": "https://localhost:8080/"
        },
        "id": "1fLDRf4i78kH",
        "outputId": "c6034314-3bd9-4cc3-d9c9-56c5bd4d2c2b"
      },
      "execution_count": null,
      "outputs": [
        {
          "output_type": "stream",
          "name": "stdout",
          "text": [
            "[4, 5, 8, 2, 3]\n",
            "[2, 3, 4, 5, 8]\n",
            "[4, 5, 8, 2, 3]\n",
            "[2, 3, 4, 5, 8]\n"
          ]
        }
      ]
    },
    {
      "cell_type": "code",
      "source": [
        "# Copy\n",
        "# Shallow Copy (Same List at different Address)\n",
        "L = [1,2,5,8,3]\n",
        "print(id(L))\n",
        "l1 = L.copy()\n",
        "print(l1)\n",
        "print(id(l1))"
      ],
      "metadata": {
        "colab": {
          "base_uri": "https://localhost:8080/"
        },
        "id": "xve6Fm2q8M3A",
        "outputId": "2f0e0787-5299-40c0-9fd1-5ece22405d43"
      },
      "execution_count": null,
      "outputs": [
        {
          "output_type": "stream",
          "name": "stdout",
          "text": [
            "136302646497664\n",
            "[1, 2, 5, 8, 3]\n",
            "136302645296384\n"
          ]
        }
      ]
    },
    {
      "cell_type": "markdown",
      "source": [
        "# List Comprehension\n",
        "List Comprehension provides a concise way of creating lists\n",
        "\n",
        "newlist = [expression for item in iterable if condition == True]\n",
        "\n",
        "Advantages of List Comprehension\n",
        "* More time - Efficient and Space Efficient than loops\n",
        "* Require fewer lines of Code\n",
        "* Transforms Iterative statement into a formula"
      ],
      "metadata": {
        "id": "ziEOCxDe8laU"
      }
    },
    {
      "cell_type": "code",
      "source": [
        "# Adding 1 - 10 numbers to a list\n",
        "l = []\n",
        "\n",
        "for i in range(1,11):\n",
        "  l.append(i)\n",
        "\n",
        "print(l)"
      ],
      "metadata": {
        "colab": {
          "base_uri": "https://localhost:8080/"
        },
        "id": "cO27k1OZ8agD",
        "outputId": "6cc91b3d-5029-46d3-fae6-41003e226c48"
      },
      "execution_count": null,
      "outputs": [
        {
          "output_type": "stream",
          "name": "stdout",
          "text": [
            "[1, 2, 3, 4, 5, 6, 7, 8, 9, 10]\n"
          ]
        }
      ]
    },
    {
      "cell_type": "code",
      "source": [
        "L = [i for i in range(1,11)]\n",
        "print(L)"
      ],
      "metadata": {
        "colab": {
          "base_uri": "https://localhost:8080/"
        },
        "id": "wDc7tORL9P_7",
        "outputId": "44fdd076-11f4-41d4-818c-d4dd4523d8c5"
      },
      "execution_count": null,
      "outputs": [
        {
          "output_type": "stream",
          "name": "stdout",
          "text": [
            "[1, 2, 3, 4, 5, 6, 7, 8, 9, 10]\n"
          ]
        }
      ]
    },
    {
      "cell_type": "code",
      "source": [
        "# Scalar Multiplication on a vector\n",
        "v = [2,3,4]\n",
        "s = -2\n",
        "\n",
        "# Here v*s will lead to list repetition\n",
        "\n",
        "v = [i*s for i in v]\n",
        "print(v)"
      ],
      "metadata": {
        "colab": {
          "base_uri": "https://localhost:8080/"
        },
        "id": "uVFLhmLd9YUD",
        "outputId": "2d42449f-153d-457a-d2fb-d0631c13ba20"
      },
      "execution_count": null,
      "outputs": [
        {
          "output_type": "stream",
          "name": "stdout",
          "text": [
            "[-4, -6, -8]\n"
          ]
        }
      ]
    },
    {
      "cell_type": "code",
      "source": [
        "# Add Squares\n",
        "l = [1,2,5,3]\n",
        "l = [i**2 for i in l]\n",
        "print(l)"
      ],
      "metadata": {
        "colab": {
          "base_uri": "https://localhost:8080/"
        },
        "id": "I2K4K2yu9rAr",
        "outputId": "bfaa7961-a3df-413f-ab31-68f772d8627c"
      },
      "execution_count": null,
      "outputs": [
        {
          "output_type": "stream",
          "name": "stdout",
          "text": [
            "[1, 4, 25, 9]\n"
          ]
        }
      ]
    },
    {
      "cell_type": "code",
      "source": [
        "# Print All numbers Divisible by 5 in the range of 1-50\n",
        "l = [i for i in range(1,51) if i%5 == 0]\n",
        "print(l)"
      ],
      "metadata": {
        "colab": {
          "base_uri": "https://localhost:8080/"
        },
        "id": "XGdLADg5-ASN",
        "outputId": "96c065f0-2201-41dc-a30e-34fb6db7ec48"
      },
      "execution_count": null,
      "outputs": [
        {
          "output_type": "stream",
          "name": "stdout",
          "text": [
            "[5, 10, 15, 20, 25, 30, 35, 40, 45, 50]\n"
          ]
        }
      ]
    },
    {
      "cell_type": "code",
      "source": [
        "# Find Languages Starting with Letter 'P'\n",
        "l = ['Java','Python','Php','C','JavaScript']\n",
        "l = [i for i in l if i[0] == 'P']\n",
        "print(l)"
      ],
      "metadata": {
        "colab": {
          "base_uri": "https://localhost:8080/"
        },
        "id": "Y8ltgSET-K4b",
        "outputId": "d9aae498-ca13-4c46-d18b-1252daa90ea1"
      },
      "execution_count": null,
      "outputs": [
        {
          "output_type": "stream",
          "name": "stdout",
          "text": [
            "['Python', 'Php']\n"
          ]
        }
      ]
    },
    {
      "cell_type": "code",
      "source": [
        "# Making a new list of fruits which are present in basket and starts with letter 'a'\n",
        "\n",
        "basket = ['apple','guava','cherry','banana']\n",
        "my_fruits = ['apple','kiwi','grapes','banana']\n",
        "\n",
        "l = [i for i in my_fruits if i in basket and i.startswith('a')]\n",
        "print(l)"
      ],
      "metadata": {
        "colab": {
          "base_uri": "https://localhost:8080/"
        },
        "id": "s_w3vdP4-qg0",
        "outputId": "18dff527-9d7d-4251-978b-6c7842420eac"
      },
      "execution_count": null,
      "outputs": [
        {
          "output_type": "stream",
          "name": "stdout",
          "text": [
            "['apple']\n"
          ]
        }
      ]
    },
    {
      "cell_type": "code",
      "source": [
        "# Print a 3*3 Matrix using List Comprehension\n",
        "l = [[i*j for i in range(1,4)] for j in range(1,4)]\n",
        "print(l)"
      ],
      "metadata": {
        "colab": {
          "base_uri": "https://localhost:8080/"
        },
        "id": "m17u8R69_ZES",
        "outputId": "20100c76-3f50-4008-be5e-8a5d62276a8e"
      },
      "execution_count": null,
      "outputs": [
        {
          "output_type": "stream",
          "name": "stdout",
          "text": [
            "[[1, 2, 3], [2, 4, 6], [3, 6, 9]]\n"
          ]
        }
      ]
    },
    {
      "cell_type": "code",
      "source": [
        "# Cartesian Product of elements of lists\n",
        "l1 = [1,4,2,5]\n",
        "l2 = [5,2,6,3]\n",
        "\n",
        "l = [i*j for i in l1 for j in l2]\n",
        "print(l)"
      ],
      "metadata": {
        "colab": {
          "base_uri": "https://localhost:8080/"
        },
        "id": "NnINZj-P_1v_",
        "outputId": "36e8456d-cc64-4ac0-f55a-aff0421c9991"
      },
      "execution_count": null,
      "outputs": [
        {
          "output_type": "stream",
          "name": "stdout",
          "text": [
            "[5, 2, 6, 3, 20, 8, 24, 12, 10, 4, 12, 6, 25, 10, 30, 15]\n"
          ]
        }
      ]
    },
    {
      "cell_type": "markdown",
      "source": [
        "# Ways to traverse List\n",
        "* Itemwise\n",
        "* Indexwise"
      ],
      "metadata": {
        "id": "bD4kBe5IASHB"
      }
    },
    {
      "cell_type": "code",
      "source": [
        "# Itemwise\n",
        "l = [1,2,3,4]\n",
        "\n",
        "for i in l:\n",
        "  print(i)"
      ],
      "metadata": {
        "colab": {
          "base_uri": "https://localhost:8080/"
        },
        "id": "iGH39jAxAMrN",
        "outputId": "e798c857-425c-4910-ec1d-2543d37fc09c"
      },
      "execution_count": null,
      "outputs": [
        {
          "output_type": "stream",
          "name": "stdout",
          "text": [
            "1\n",
            "2\n",
            "3\n",
            "4\n"
          ]
        }
      ]
    },
    {
      "cell_type": "code",
      "source": [
        "# Indexwise\n",
        "L = [1,2,3,4]\n",
        "\n",
        "for i in range(0,len(L)):\n",
        "  print(i,L[i])"
      ],
      "metadata": {
        "colab": {
          "base_uri": "https://localhost:8080/"
        },
        "id": "vCnNDIIZAtaf",
        "outputId": "86c3cd7f-708a-41a2-daa8-b134391883fd"
      },
      "execution_count": null,
      "outputs": [
        {
          "output_type": "stream",
          "name": "stdout",
          "text": [
            "0 1\n",
            "1 2\n",
            "2 3\n",
            "3 4\n"
          ]
        }
      ]
    },
    {
      "cell_type": "markdown",
      "source": [
        "# Zip\n",
        "The zip() function returns a zip object, which is an iterator of tuples where the first item in each passed iterator are paired together, and then the second item in each passed iterator are paired together. If the passed iterators have different length, the iterator with the least items decides the length of the new iterator"
      ],
      "metadata": {
        "id": "gayYrPTvBMUz"
      }
    },
    {
      "cell_type": "code",
      "source": [
        "# Write a program to add items of 2 lists indexwise\n",
        "l1 = [1,2,4,5]\n",
        "l2 = [-1,-2,-3,-4]\n",
        "\n",
        "l3 = list(zip(l1,l2))\n",
        "print(l3)\n",
        "\n",
        "l3 = [i+j for i,j in zip(l1,l2)]\n",
        "print(l3)"
      ],
      "metadata": {
        "colab": {
          "base_uri": "https://localhost:8080/"
        },
        "id": "H_wLXsqHBAIl",
        "outputId": "12027549-67ef-495b-91d5-1160d701ca2c"
      },
      "execution_count": null,
      "outputs": [
        {
          "output_type": "stream",
          "name": "stdout",
          "text": [
            "[(1, -1), (2, -2), (4, -3), (5, -4)]\n",
            "[0, 0, 1, 1]\n"
          ]
        }
      ]
    },
    {
      "cell_type": "code",
      "source": [],
      "metadata": {
        "id": "xwAsHBA6CsCE"
      },
      "execution_count": null,
      "outputs": []
    }
  ]
}